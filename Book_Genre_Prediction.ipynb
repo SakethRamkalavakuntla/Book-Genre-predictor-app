{
  "cells": [
    {
      "cell_type": "code",
      "execution_count": null,
      "id": "classified-minutes",
      "metadata": {
        "id": "classified-minutes"
      },
      "outputs": [],
      "source": [
        "import pandas as pd\n",
        "import numpy as np\n",
        "import seaborn as sn\n",
        "import matplotlib.pyplot as plt\n",
        "import re\n",
        "import nltk\n",
        "from collections import Counter\n",
        "from sklearn.feature_extraction.text import TfidfVectorizer,CountVectorizer\n",
        "from sklearn.model_selection import train_test_split\n",
        "from sklearn.tree import DecisionTreeClassifier\n",
        "from sklearn.ensemble import RandomForestClassifier\n",
        "from sklearn.naive_bayes import GaussianNB,MultinomialNB\n",
        "from sklearn.svm import SVC\n",
        "from sklearn import metrics"
      ]
    },
    {
      "cell_type": "code",
      "execution_count": null,
      "id": "foreign-concert",
      "metadata": {
        "colab": {
          "base_uri": "https://localhost:8080/",
          "height": 206
        },
        "id": "foreign-concert",
        "outputId": "6464c12a-7155-4426-d4de-8cbfc8dc901e"
      },
      "outputs": [
        {
          "output_type": "execute_result",
          "data": {
            "text/plain": [
              "   Unnamed: 0   book_id                  book_name    genre  \\\n",
              "0           0   3248537          Drowned Wednesday  Fantasy   \n",
              "1           1  27796919              The Lost Hero  Fantasy   \n",
              "2           2   3910776  The Eyes of the Overworld  Fantasy   \n",
              "3           3   5969644            Magic's Promise  Fantasy   \n",
              "4           4   3173445             Taran Wanderer  Fantasy   \n",
              "\n",
              "                                             summary  \n",
              "0   Drowned Wednesday is the first Trustee among ...  \n",
              "1   As the book opens, Jason awakens on a school ...  \n",
              "2   Cugel is easily persuaded by the merchant Fia...  \n",
              "3   The book opens with Herald-Mage Vanyel return...  \n",
              "4   Taran and Gurgi have returned to Caer Dallben...  "
            ],
            "text/html": [
              "\n",
              "  <div id=\"df-20ad852f-bde2-413f-9ee4-65f935cecfe5\" class=\"colab-df-container\">\n",
              "    <div>\n",
              "<style scoped>\n",
              "    .dataframe tbody tr th:only-of-type {\n",
              "        vertical-align: middle;\n",
              "    }\n",
              "\n",
              "    .dataframe tbody tr th {\n",
              "        vertical-align: top;\n",
              "    }\n",
              "\n",
              "    .dataframe thead th {\n",
              "        text-align: right;\n",
              "    }\n",
              "</style>\n",
              "<table border=\"1\" class=\"dataframe\">\n",
              "  <thead>\n",
              "    <tr style=\"text-align: right;\">\n",
              "      <th></th>\n",
              "      <th>Unnamed: 0</th>\n",
              "      <th>book_id</th>\n",
              "      <th>book_name</th>\n",
              "      <th>genre</th>\n",
              "      <th>summary</th>\n",
              "    </tr>\n",
              "  </thead>\n",
              "  <tbody>\n",
              "    <tr>\n",
              "      <th>0</th>\n",
              "      <td>0</td>\n",
              "      <td>3248537</td>\n",
              "      <td>Drowned Wednesday</td>\n",
              "      <td>Fantasy</td>\n",
              "      <td>Drowned Wednesday is the first Trustee among ...</td>\n",
              "    </tr>\n",
              "    <tr>\n",
              "      <th>1</th>\n",
              "      <td>1</td>\n",
              "      <td>27796919</td>\n",
              "      <td>The Lost Hero</td>\n",
              "      <td>Fantasy</td>\n",
              "      <td>As the book opens, Jason awakens on a school ...</td>\n",
              "    </tr>\n",
              "    <tr>\n",
              "      <th>2</th>\n",
              "      <td>2</td>\n",
              "      <td>3910776</td>\n",
              "      <td>The Eyes of the Overworld</td>\n",
              "      <td>Fantasy</td>\n",
              "      <td>Cugel is easily persuaded by the merchant Fia...</td>\n",
              "    </tr>\n",
              "    <tr>\n",
              "      <th>3</th>\n",
              "      <td>3</td>\n",
              "      <td>5969644</td>\n",
              "      <td>Magic's Promise</td>\n",
              "      <td>Fantasy</td>\n",
              "      <td>The book opens with Herald-Mage Vanyel return...</td>\n",
              "    </tr>\n",
              "    <tr>\n",
              "      <th>4</th>\n",
              "      <td>4</td>\n",
              "      <td>3173445</td>\n",
              "      <td>Taran Wanderer</td>\n",
              "      <td>Fantasy</td>\n",
              "      <td>Taran and Gurgi have returned to Caer Dallben...</td>\n",
              "    </tr>\n",
              "  </tbody>\n",
              "</table>\n",
              "</div>\n",
              "    <div class=\"colab-df-buttons\">\n",
              "\n",
              "  <div class=\"colab-df-container\">\n",
              "    <button class=\"colab-df-convert\" onclick=\"convertToInteractive('df-20ad852f-bde2-413f-9ee4-65f935cecfe5')\"\n",
              "            title=\"Convert this dataframe to an interactive table.\"\n",
              "            style=\"display:none;\">\n",
              "\n",
              "  <svg xmlns=\"http://www.w3.org/2000/svg\" height=\"24px\" viewBox=\"0 -960 960 960\">\n",
              "    <path d=\"M120-120v-720h720v720H120Zm60-500h600v-160H180v160Zm220 220h160v-160H400v160Zm0 220h160v-160H400v160ZM180-400h160v-160H180v160Zm440 0h160v-160H620v160ZM180-180h160v-160H180v160Zm440 0h160v-160H620v160Z\"/>\n",
              "  </svg>\n",
              "    </button>\n",
              "\n",
              "  <style>\n",
              "    .colab-df-container {\n",
              "      display:flex;\n",
              "      gap: 12px;\n",
              "    }\n",
              "\n",
              "    .colab-df-convert {\n",
              "      background-color: #E8F0FE;\n",
              "      border: none;\n",
              "      border-radius: 50%;\n",
              "      cursor: pointer;\n",
              "      display: none;\n",
              "      fill: #1967D2;\n",
              "      height: 32px;\n",
              "      padding: 0 0 0 0;\n",
              "      width: 32px;\n",
              "    }\n",
              "\n",
              "    .colab-df-convert:hover {\n",
              "      background-color: #E2EBFA;\n",
              "      box-shadow: 0px 1px 2px rgba(60, 64, 67, 0.3), 0px 1px 3px 1px rgba(60, 64, 67, 0.15);\n",
              "      fill: #174EA6;\n",
              "    }\n",
              "\n",
              "    .colab-df-buttons div {\n",
              "      margin-bottom: 4px;\n",
              "    }\n",
              "\n",
              "    [theme=dark] .colab-df-convert {\n",
              "      background-color: #3B4455;\n",
              "      fill: #D2E3FC;\n",
              "    }\n",
              "\n",
              "    [theme=dark] .colab-df-convert:hover {\n",
              "      background-color: #434B5C;\n",
              "      box-shadow: 0px 1px 3px 1px rgba(0, 0, 0, 0.15);\n",
              "      filter: drop-shadow(0px 1px 2px rgba(0, 0, 0, 0.3));\n",
              "      fill: #FFFFFF;\n",
              "    }\n",
              "  </style>\n",
              "\n",
              "    <script>\n",
              "      const buttonEl =\n",
              "        document.querySelector('#df-20ad852f-bde2-413f-9ee4-65f935cecfe5 button.colab-df-convert');\n",
              "      buttonEl.style.display =\n",
              "        google.colab.kernel.accessAllowed ? 'block' : 'none';\n",
              "\n",
              "      async function convertToInteractive(key) {\n",
              "        const element = document.querySelector('#df-20ad852f-bde2-413f-9ee4-65f935cecfe5');\n",
              "        const dataTable =\n",
              "          await google.colab.kernel.invokeFunction('convertToInteractive',\n",
              "                                                    [key], {});\n",
              "        if (!dataTable) return;\n",
              "\n",
              "        const docLinkHtml = 'Like what you see? Visit the ' +\n",
              "          '<a target=\"_blank\" href=https://colab.research.google.com/notebooks/data_table.ipynb>data table notebook</a>'\n",
              "          + ' to learn more about interactive tables.';\n",
              "        element.innerHTML = '';\n",
              "        dataTable['output_type'] = 'display_data';\n",
              "        await google.colab.output.renderOutput(dataTable, element);\n",
              "        const docLink = document.createElement('div');\n",
              "        docLink.innerHTML = docLinkHtml;\n",
              "        element.appendChild(docLink);\n",
              "      }\n",
              "    </script>\n",
              "  </div>\n",
              "\n",
              "\n",
              "    <div id=\"df-7d62a804-a80d-491b-a982-9293069f60aa\">\n",
              "      <button class=\"colab-df-quickchart\" onclick=\"quickchart('df-7d62a804-a80d-491b-a982-9293069f60aa')\"\n",
              "                title=\"Suggest charts\"\n",
              "                style=\"display:none;\">\n",
              "\n",
              "<svg xmlns=\"http://www.w3.org/2000/svg\" height=\"24px\"viewBox=\"0 0 24 24\"\n",
              "     width=\"24px\">\n",
              "    <g>\n",
              "        <path d=\"M19 3H5c-1.1 0-2 .9-2 2v14c0 1.1.9 2 2 2h14c1.1 0 2-.9 2-2V5c0-1.1-.9-2-2-2zM9 17H7v-7h2v7zm4 0h-2V7h2v10zm4 0h-2v-4h2v4z\"/>\n",
              "    </g>\n",
              "</svg>\n",
              "      </button>\n",
              "\n",
              "<style>\n",
              "  .colab-df-quickchart {\n",
              "      --bg-color: #E8F0FE;\n",
              "      --fill-color: #1967D2;\n",
              "      --hover-bg-color: #E2EBFA;\n",
              "      --hover-fill-color: #174EA6;\n",
              "      --disabled-fill-color: #AAA;\n",
              "      --disabled-bg-color: #DDD;\n",
              "  }\n",
              "\n",
              "  [theme=dark] .colab-df-quickchart {\n",
              "      --bg-color: #3B4455;\n",
              "      --fill-color: #D2E3FC;\n",
              "      --hover-bg-color: #434B5C;\n",
              "      --hover-fill-color: #FFFFFF;\n",
              "      --disabled-bg-color: #3B4455;\n",
              "      --disabled-fill-color: #666;\n",
              "  }\n",
              "\n",
              "  .colab-df-quickchart {\n",
              "    background-color: var(--bg-color);\n",
              "    border: none;\n",
              "    border-radius: 50%;\n",
              "    cursor: pointer;\n",
              "    display: none;\n",
              "    fill: var(--fill-color);\n",
              "    height: 32px;\n",
              "    padding: 0;\n",
              "    width: 32px;\n",
              "  }\n",
              "\n",
              "  .colab-df-quickchart:hover {\n",
              "    background-color: var(--hover-bg-color);\n",
              "    box-shadow: 0 1px 2px rgba(60, 64, 67, 0.3), 0 1px 3px 1px rgba(60, 64, 67, 0.15);\n",
              "    fill: var(--button-hover-fill-color);\n",
              "  }\n",
              "\n",
              "  .colab-df-quickchart-complete:disabled,\n",
              "  .colab-df-quickchart-complete:disabled:hover {\n",
              "    background-color: var(--disabled-bg-color);\n",
              "    fill: var(--disabled-fill-color);\n",
              "    box-shadow: none;\n",
              "  }\n",
              "\n",
              "  .colab-df-spinner {\n",
              "    border: 2px solid var(--fill-color);\n",
              "    border-color: transparent;\n",
              "    border-bottom-color: var(--fill-color);\n",
              "    animation:\n",
              "      spin 1s steps(1) infinite;\n",
              "  }\n",
              "\n",
              "  @keyframes spin {\n",
              "    0% {\n",
              "      border-color: transparent;\n",
              "      border-bottom-color: var(--fill-color);\n",
              "      border-left-color: var(--fill-color);\n",
              "    }\n",
              "    20% {\n",
              "      border-color: transparent;\n",
              "      border-left-color: var(--fill-color);\n",
              "      border-top-color: var(--fill-color);\n",
              "    }\n",
              "    30% {\n",
              "      border-color: transparent;\n",
              "      border-left-color: var(--fill-color);\n",
              "      border-top-color: var(--fill-color);\n",
              "      border-right-color: var(--fill-color);\n",
              "    }\n",
              "    40% {\n",
              "      border-color: transparent;\n",
              "      border-right-color: var(--fill-color);\n",
              "      border-top-color: var(--fill-color);\n",
              "    }\n",
              "    60% {\n",
              "      border-color: transparent;\n",
              "      border-right-color: var(--fill-color);\n",
              "    }\n",
              "    80% {\n",
              "      border-color: transparent;\n",
              "      border-right-color: var(--fill-color);\n",
              "      border-bottom-color: var(--fill-color);\n",
              "    }\n",
              "    90% {\n",
              "      border-color: transparent;\n",
              "      border-bottom-color: var(--fill-color);\n",
              "    }\n",
              "  }\n",
              "</style>\n",
              "\n",
              "      <script>\n",
              "        async function quickchart(key) {\n",
              "          const quickchartButtonEl =\n",
              "            document.querySelector('#' + key + ' button');\n",
              "          quickchartButtonEl.disabled = true;  // To prevent multiple clicks.\n",
              "          quickchartButtonEl.classList.add('colab-df-spinner');\n",
              "          try {\n",
              "            const charts = await google.colab.kernel.invokeFunction(\n",
              "                'suggestCharts', [key], {});\n",
              "          } catch (error) {\n",
              "            console.error('Error during call to suggestCharts:', error);\n",
              "          }\n",
              "          quickchartButtonEl.classList.remove('colab-df-spinner');\n",
              "          quickchartButtonEl.classList.add('colab-df-quickchart-complete');\n",
              "        }\n",
              "        (() => {\n",
              "          let quickchartButtonEl =\n",
              "            document.querySelector('#df-7d62a804-a80d-491b-a982-9293069f60aa button');\n",
              "          quickchartButtonEl.style.display =\n",
              "            google.colab.kernel.accessAllowed ? 'block' : 'none';\n",
              "        })();\n",
              "      </script>\n",
              "    </div>\n",
              "\n",
              "    </div>\n",
              "  </div>\n"
            ],
            "application/vnd.google.colaboratory.intrinsic+json": {
              "type": "dataframe",
              "variable_name": "books",
              "summary": "{\n  \"name\": \"books\",\n  \"rows\": 3000,\n  \"fields\": [\n    {\n      \"column\": \"Unnamed: 0\",\n      \"properties\": {\n        \"dtype\": \"number\",\n        \"std\": 866,\n        \"min\": 0,\n        \"max\": 2999,\n        \"num_unique_values\": 3000,\n        \"samples\": [\n          1801,\n          1190,\n          1817\n        ],\n        \"semantic_type\": \"\",\n        \"description\": \"\"\n      }\n    },\n    {\n      \"column\": \"book_id\",\n      \"properties\": {\n        \"dtype\": \"number\",\n        \"std\": 8375374,\n        \"min\": 843,\n        \"max\": 37054020,\n        \"num_unique_values\": 3000,\n        \"samples\": [\n          2795327,\n          9350572,\n          9366759\n        ],\n        \"semantic_type\": \"\",\n        \"description\": \"\"\n      }\n    },\n    {\n      \"column\": \"book_name\",\n      \"properties\": {\n        \"dtype\": \"string\",\n        \"num_unique_values\": 2970,\n        \"samples\": [\n          \"Some of Your Blood\",\n          \"To Fear A Painted Devil\",\n          \"The Wolf's Hour\"\n        ],\n        \"semantic_type\": \"\",\n        \"description\": \"\"\n      }\n    },\n    {\n      \"column\": \"genre\",\n      \"properties\": {\n        \"dtype\": \"category\",\n        \"num_unique_values\": 6,\n        \"samples\": [\n          \"Fantasy\",\n          \"Science Fiction\",\n          \"Thriller\"\n        ],\n        \"semantic_type\": \"\",\n        \"description\": \"\"\n      }\n    },\n    {\n      \"column\": \"summary\",\n      \"properties\": {\n        \"dtype\": \"string\",\n        \"num_unique_values\": 2998,\n        \"samples\": [\n          \" It is Christmas Eve and everyone in the house hears the crashing of furniture, followed by a wailing and hideous scream. When they get to Simeon Lee's room, they find it locked and they have to break the door down. When they finally get through the door, they find heavy furniture overturned and Simeon Lee dead, his throat slit, in a great pool of blood. Superintendent Sugden notices Pilar Estravados pick up something from the floor. She tries to conceal what she picked up, but when pressed, opens her hand to show a small bit of rubber and a small object made of wood. Superintendent Sugden explains that he is in the house by prior arrangement with the victim, who confided to him the theft of a substantial quantity of uncut diamonds from his safe. When Poirot is called in to investigate, there are therefore several main problems: who killed the victim? How was the victim killed inside a locked room? Was the murder connected to the theft of the diamonds? And what is the significance of the small triangle of rubber and the peg that Sugden is able to provide when reminded by Poirot of the clue that had been picked up by Pilar? Poirot\\u2019s investigation explores the nature of the victim \\u2013 a methodical and vengeful man \\u2013 and the way that these characteristics come out in his children. He seems focused on the idea that one of the immediate family is the murderer. When the butler mentions his confusion about the identities of the house guests, Poirot realizes that the four legitimate sons may not be the only heirs of Simeon\\u2019s temperament. The final major clue is dropped by Pilar, who while playing with balloons and one bursts, lets slip that what she found on the floor must also have been a balloon. She knows more than she realizes. Poirot warns her to be careful.\",\n          \" The story opens in the lower levels of Coruscant in 24 ABY, only a few months prior to the Yuuzhan Vong Invasion. Boba Fett has just chased down another bounty, a Rodian art dealer who sold fake works to Gebbu the Hutt. Meanwhile on Nar Shaddaa, Nom Anor, posing under the alias Udelen, recruits a Mandalorian named Goran Beviin to assassinate a politician on Ter Abbes, a grim industrial planet off the Perlemian Trade Route. Bevin quickly realizes that if the man is killed it will trigger a civil war, but even after he voices his misgivings to Boba he still carries out the mission. Nom Anor notes that Bevin did an efficient job of removing the target and plans to meet Fett for the second time on Mandalore and the capital city, Kedalbe. Nom Anor notes that Mandalore is already on his list of a world that will be harder to subdue. Anor arrives on the planet, again under the alias of Udelen and provides Fett with the location of a rendezvous where he and a select number of Fett's troops are to meet. Anor plans to reveal his true nature to Fett as the location lies along the main invasion route the Yuuzhan Vong will take into the galaxy. As the Mandalorian fleet awaits the arrival of their client, Bevin becomes impatient and scouts around for Udelen. He soon encounters what he assumes to be an asteroid, but is actually a Yuuzhan Vong ship. Unsure of what to make of their new arrivals, the Mandalorians enter battle formation and wait. Soon though, Nom Anor makes contact with Fett and asks him to board the lead ship for a face to face meeting. Once aboard the miid ro'ik warship Fett orders Bevin to discreetly gather any samples he can, while Fett runs scans with his helmet. While touring the ship, Anor explains the Yuuzhan Vong vision for the galaxy and how the Mandalorians will play a part in shaping it and both Fett and Bevin witness first hand the plans the Vong have for the humans they capture. Anor then gives Fett the plans for the next mission he has planned for the Mandalorians, to secure a landing zone on Birgis, in exchange for their continued service the Mandalore sector will be left alone. Fett knows this is a lie and that the Vong will come for them eventually, he plans to ensure he's ready when that day comes. Fett plans to use the inside track he now has to do as much damage to the invaders as possible, while he appears to help them he will do all he can to hinder them at the same time. Nom Anor amends his report, instead believing that enslaving the Mandalorians is the best way of dealing with them. One week after the invasion of Helska 4, the Mandalorians assault the spaceport on Birgis. Fett, Bevin and Cham, another Mandalorian warrior, spearhead the assault. Fett hopes to use this moment to pass on vital intel to the New Republic. Passing the intel on to a pilot during the assault, Fett only hopes that the Republic won't blow their cover. Typically, the Yuuzhan Vong leave no survivors at the spaceport. New Holgha, however, the Vong's next target remains unevacuated, the Republic hasn't acted on the intel, obviously not trusting its source. With the planets defenses sabotaged and its troops relocated elsewhere, the world falls without a serious fight. Instead, the Republic diverted troops to Pedd 4 and now New Holgha suffers, as Fett observes a miit ro'ik digest everything around it for fuel, he is reminded of the Sarlacc. As he contemplates a better and more reliable way to pass intel to the Republic, a Vong warrior asks him to assist in killing a Jedi. While Bevin stalls the Vong, Fett and a few others subdue the Jedi, who is skeptical at first, but then believes Fett and agrees to take the information off planet. As the Jedi leaves for his hidden ship, Bevin arrives, followed by the Vong warrior. When he asks what happened to the Jedi, Fett and the others kill him, with Bevin using his crushgaunts to kill the warrior. While the others collect samples from the dead warrior, Bevin scalps him for a trophy. Briika, a Mandalorian female warrior, is fatally wounded in the encounter though and dies when she reaches Slave 1. Bevin, keeping a promise he made to her, adopts Dinua, Briika's daughter as his own. Nom Anor lays plans to accelerate the coming invasion of Mandalore, he believes that the reports of the Mandalorians savagery have been greatly exaggerated. He still plans to use them, keeping them undercover from the rest of the Vong warriors, but ultimately he plans to erase their culture from the galaxy. Fett, traveling across Mandalore space reflects that his plan is so far working fine. The Republic believe the Mandalorians are in league with the Vong, while his own engineers are working on weapons designed specifically to fight them. Then an X-Wing drops into pursuit course, but when it makes contact through one of Fett's own intel nodes he stays his trigger finger. The Jedi he saved on New Holgha, a man named Kubariet asks to meet face to face. Working with New Republic Intelligence, Kubariet confirms that Fett has a deal, the Mandalorians will continue to masquerade as Vong mercenaries while at the same time passing intel to the Republic. Before he leaves, Kubariet asks if Fett will spare a few of his best commandos to act as a kind of new Cuy'val Dar to train planetary militias to fight the Vong. Kubariet gives Fett a secure datachip, if he wants to pass on intel then he can only do it through the Jedi, in return Fett hands over 'spare parts' he's collected from the Vong. When Kubariet asks if there's anything more he can do for Fett he tells him to make sure everyone knows that a Mandalorian named Briika Jeban died saving a citizen of the New Republic. When Kubariet asks who she saved, Fett simply says: 'You, Jedi, you.'\",\n          \" Deryni Checkmate takes places in March 1121, four months after the coronation of fourteen-year old King Kelson Haldane. The novel opens with the rabidly anti-Deryni leader of the Holy Church, Archbishop Edmund Loris, signing a letter that demands that the Deryni Duke of Corwyn, Alaric Morgan, recant his magical powers and submit to a life of penance. If he fails to do so, Loris threatens to excommunicate Morgan and place his entire duchy under interdict. Additionally, Morgan's cousin, Monsignor Duncan McLain, is suspended and summoned to an ecclesiastical trial to answer for his part in the events surrounding Kelson's coronation. After being warned of the threat, Kelson sends Duncan to warn Morgan of the upcoming trouble, fearing that Duncan's hidden Deryni heritage may be revealed by a trial. Duncan travels to Morgan's capital city of Coroth, where he informs his cousin of Loris' threat. In addition to the ecclesiastical threat, Morgan's duchy is being ravaged by an anti-Deryni fanatic named Warin de Grey, and the neighboring kingdom of Torenth is preparing to launch an invasion of Gwynedd. Fearing that an internal Gwyneddan conflict will weaken the kingdom prior to fighting an external enemy, Morgan and Duncan eventually decide to travel to the city of Dhassa and personally appeal to the Curia of Bishops. However, en route to Dhassa, Morgan is drugged and captured by Warin, who intends to burn the Deryni duke as a heretic. Duncan manages to rescue his cousin, but is forced to reveal his Deryni powers to ensure their escape. When the Curia learns of the cousins' actions, the two are soon excommunicated. Morgan and Duncan realize that appealing to the Curia is no longer an option, so they set out to meet with Kelson. Loris attempts to place Corwyn under Interdict, but a group of bishops refuses to participate in an action that would punish an entire duchy for the actions of its duke. Loris rages against the rebels, but he and his supporters are thrown out of Dhassa, effectively splitting the Curia. Kelson has traveled to the city of Culdi to attend the wedding of Morgan's sister, Bronwyn, and Duncan's half-brother, Kevin. Unknown to anyone, a jealous architect named Rimmell has fallen in love with Bronwyn and seeks to win her affections through the use of a love charm he acquires from an old witch woman. However, Rimmell's plan backfires horribly, and the charm kills both Bronwyn and Kevin. By the time Morgan and Duncan arrive in Culdi, Rimmell has been executed for his crime. Though Morgan is crushed with grief over the death of his sister, Kelson reminds him that he must still see to his duties. Facing an internal ecclesiastical schism, rebel fanatics ravaging his lands, and an imminent invasion from Torenth, Kelson cannot allow Morgan to wallow in his grief. Morgan agrees, and returns to his duties in service to the throne of Gwynedd.\"\n        ],\n        \"semantic_type\": \"\",\n        \"description\": \"\"\n      }\n    }\n  ]\n}"
            }
          },
          "metadata": {},
          "execution_count": 7
        }
      ],
      "source": [
        "books = pd.read_csv('BooksDataSet.csv')\n",
        "books.head()"
      ]
    },
    {
      "cell_type": "code",
      "execution_count": null,
      "id": "cooperative-portsmouth",
      "metadata": {
        "colab": {
          "base_uri": "https://localhost:8080/",
          "height": 363
        },
        "id": "cooperative-portsmouth",
        "outputId": "ded49b78-03e2-44c5-fb8f-9033fe990458"
      },
      "outputs": [
        {
          "output_type": "execute_result",
          "data": {
            "text/plain": [
              "    book_id                   book_name    genre  \\\n",
              "0   3248537           Drowned Wednesday  Fantasy   \n",
              "1  27796919               The Lost Hero  Fantasy   \n",
              "2   3910776   The Eyes of the Overworld  Fantasy   \n",
              "3   5969644             Magic's Promise  Fantasy   \n",
              "4   3173445              Taran Wanderer  Fantasy   \n",
              "5  19401625              Thendara House  Fantasy   \n",
              "6   6563632                   The Thief  Fantasy   \n",
              "7   8700946         The Sweet Far Thing  Fantasy   \n",
              "8   6216269  Mistborn: The Final Empire  Fantasy   \n",
              "9  10933407         The Sorcerer's Ship  Fantasy   \n",
              "\n",
              "                                             summary  \n",
              "0   Drowned Wednesday is the first Trustee among ...  \n",
              "1   As the book opens, Jason awakens on a school ...  \n",
              "2   Cugel is easily persuaded by the merchant Fia...  \n",
              "3   The book opens with Herald-Mage Vanyel return...  \n",
              "4   Taran and Gurgi have returned to Caer Dallben...  \n",
              "5   The novel concerns the dwelling of the Darkov...  \n",
              "6   Gen is released from prison by the magus, the...  \n",
              "7   The prologue begins with two men who are sear...  \n",
              "8   In Luthadel, the capital city of the Final Em...  \n",
              "9   A man named Gene finds himself cast into a ne...  "
            ],
            "text/html": [
              "\n",
              "  <div id=\"df-185aaa06-62bb-494a-b489-275aff293f70\" class=\"colab-df-container\">\n",
              "    <div>\n",
              "<style scoped>\n",
              "    .dataframe tbody tr th:only-of-type {\n",
              "        vertical-align: middle;\n",
              "    }\n",
              "\n",
              "    .dataframe tbody tr th {\n",
              "        vertical-align: top;\n",
              "    }\n",
              "\n",
              "    .dataframe thead th {\n",
              "        text-align: right;\n",
              "    }\n",
              "</style>\n",
              "<table border=\"1\" class=\"dataframe\">\n",
              "  <thead>\n",
              "    <tr style=\"text-align: right;\">\n",
              "      <th></th>\n",
              "      <th>book_id</th>\n",
              "      <th>book_name</th>\n",
              "      <th>genre</th>\n",
              "      <th>summary</th>\n",
              "    </tr>\n",
              "  </thead>\n",
              "  <tbody>\n",
              "    <tr>\n",
              "      <th>0</th>\n",
              "      <td>3248537</td>\n",
              "      <td>Drowned Wednesday</td>\n",
              "      <td>Fantasy</td>\n",
              "      <td>Drowned Wednesday is the first Trustee among ...</td>\n",
              "    </tr>\n",
              "    <tr>\n",
              "      <th>1</th>\n",
              "      <td>27796919</td>\n",
              "      <td>The Lost Hero</td>\n",
              "      <td>Fantasy</td>\n",
              "      <td>As the book opens, Jason awakens on a school ...</td>\n",
              "    </tr>\n",
              "    <tr>\n",
              "      <th>2</th>\n",
              "      <td>3910776</td>\n",
              "      <td>The Eyes of the Overworld</td>\n",
              "      <td>Fantasy</td>\n",
              "      <td>Cugel is easily persuaded by the merchant Fia...</td>\n",
              "    </tr>\n",
              "    <tr>\n",
              "      <th>3</th>\n",
              "      <td>5969644</td>\n",
              "      <td>Magic's Promise</td>\n",
              "      <td>Fantasy</td>\n",
              "      <td>The book opens with Herald-Mage Vanyel return...</td>\n",
              "    </tr>\n",
              "    <tr>\n",
              "      <th>4</th>\n",
              "      <td>3173445</td>\n",
              "      <td>Taran Wanderer</td>\n",
              "      <td>Fantasy</td>\n",
              "      <td>Taran and Gurgi have returned to Caer Dallben...</td>\n",
              "    </tr>\n",
              "    <tr>\n",
              "      <th>5</th>\n",
              "      <td>19401625</td>\n",
              "      <td>Thendara House</td>\n",
              "      <td>Fantasy</td>\n",
              "      <td>The novel concerns the dwelling of the Darkov...</td>\n",
              "    </tr>\n",
              "    <tr>\n",
              "      <th>6</th>\n",
              "      <td>6563632</td>\n",
              "      <td>The Thief</td>\n",
              "      <td>Fantasy</td>\n",
              "      <td>Gen is released from prison by the magus, the...</td>\n",
              "    </tr>\n",
              "    <tr>\n",
              "      <th>7</th>\n",
              "      <td>8700946</td>\n",
              "      <td>The Sweet Far Thing</td>\n",
              "      <td>Fantasy</td>\n",
              "      <td>The prologue begins with two men who are sear...</td>\n",
              "    </tr>\n",
              "    <tr>\n",
              "      <th>8</th>\n",
              "      <td>6216269</td>\n",
              "      <td>Mistborn: The Final Empire</td>\n",
              "      <td>Fantasy</td>\n",
              "      <td>In Luthadel, the capital city of the Final Em...</td>\n",
              "    </tr>\n",
              "    <tr>\n",
              "      <th>9</th>\n",
              "      <td>10933407</td>\n",
              "      <td>The Sorcerer's Ship</td>\n",
              "      <td>Fantasy</td>\n",
              "      <td>A man named Gene finds himself cast into a ne...</td>\n",
              "    </tr>\n",
              "  </tbody>\n",
              "</table>\n",
              "</div>\n",
              "    <div class=\"colab-df-buttons\">\n",
              "\n",
              "  <div class=\"colab-df-container\">\n",
              "    <button class=\"colab-df-convert\" onclick=\"convertToInteractive('df-185aaa06-62bb-494a-b489-275aff293f70')\"\n",
              "            title=\"Convert this dataframe to an interactive table.\"\n",
              "            style=\"display:none;\">\n",
              "\n",
              "  <svg xmlns=\"http://www.w3.org/2000/svg\" height=\"24px\" viewBox=\"0 -960 960 960\">\n",
              "    <path d=\"M120-120v-720h720v720H120Zm60-500h600v-160H180v160Zm220 220h160v-160H400v160Zm0 220h160v-160H400v160ZM180-400h160v-160H180v160Zm440 0h160v-160H620v160ZM180-180h160v-160H180v160Zm440 0h160v-160H620v160Z\"/>\n",
              "  </svg>\n",
              "    </button>\n",
              "\n",
              "  <style>\n",
              "    .colab-df-container {\n",
              "      display:flex;\n",
              "      gap: 12px;\n",
              "    }\n",
              "\n",
              "    .colab-df-convert {\n",
              "      background-color: #E8F0FE;\n",
              "      border: none;\n",
              "      border-radius: 50%;\n",
              "      cursor: pointer;\n",
              "      display: none;\n",
              "      fill: #1967D2;\n",
              "      height: 32px;\n",
              "      padding: 0 0 0 0;\n",
              "      width: 32px;\n",
              "    }\n",
              "\n",
              "    .colab-df-convert:hover {\n",
              "      background-color: #E2EBFA;\n",
              "      box-shadow: 0px 1px 2px rgba(60, 64, 67, 0.3), 0px 1px 3px 1px rgba(60, 64, 67, 0.15);\n",
              "      fill: #174EA6;\n",
              "    }\n",
              "\n",
              "    .colab-df-buttons div {\n",
              "      margin-bottom: 4px;\n",
              "    }\n",
              "\n",
              "    [theme=dark] .colab-df-convert {\n",
              "      background-color: #3B4455;\n",
              "      fill: #D2E3FC;\n",
              "    }\n",
              "\n",
              "    [theme=dark] .colab-df-convert:hover {\n",
              "      background-color: #434B5C;\n",
              "      box-shadow: 0px 1px 3px 1px rgba(0, 0, 0, 0.15);\n",
              "      filter: drop-shadow(0px 1px 2px rgba(0, 0, 0, 0.3));\n",
              "      fill: #FFFFFF;\n",
              "    }\n",
              "  </style>\n",
              "\n",
              "    <script>\n",
              "      const buttonEl =\n",
              "        document.querySelector('#df-185aaa06-62bb-494a-b489-275aff293f70 button.colab-df-convert');\n",
              "      buttonEl.style.display =\n",
              "        google.colab.kernel.accessAllowed ? 'block' : 'none';\n",
              "\n",
              "      async function convertToInteractive(key) {\n",
              "        const element = document.querySelector('#df-185aaa06-62bb-494a-b489-275aff293f70');\n",
              "        const dataTable =\n",
              "          await google.colab.kernel.invokeFunction('convertToInteractive',\n",
              "                                                    [key], {});\n",
              "        if (!dataTable) return;\n",
              "\n",
              "        const docLinkHtml = 'Like what you see? Visit the ' +\n",
              "          '<a target=\"_blank\" href=https://colab.research.google.com/notebooks/data_table.ipynb>data table notebook</a>'\n",
              "          + ' to learn more about interactive tables.';\n",
              "        element.innerHTML = '';\n",
              "        dataTable['output_type'] = 'display_data';\n",
              "        await google.colab.output.renderOutput(dataTable, element);\n",
              "        const docLink = document.createElement('div');\n",
              "        docLink.innerHTML = docLinkHtml;\n",
              "        element.appendChild(docLink);\n",
              "      }\n",
              "    </script>\n",
              "  </div>\n",
              "\n",
              "\n",
              "    <div id=\"df-e410f24a-5107-48d9-b3f5-9512a9bb57f8\">\n",
              "      <button class=\"colab-df-quickchart\" onclick=\"quickchart('df-e410f24a-5107-48d9-b3f5-9512a9bb57f8')\"\n",
              "                title=\"Suggest charts\"\n",
              "                style=\"display:none;\">\n",
              "\n",
              "<svg xmlns=\"http://www.w3.org/2000/svg\" height=\"24px\"viewBox=\"0 0 24 24\"\n",
              "     width=\"24px\">\n",
              "    <g>\n",
              "        <path d=\"M19 3H5c-1.1 0-2 .9-2 2v14c0 1.1.9 2 2 2h14c1.1 0 2-.9 2-2V5c0-1.1-.9-2-2-2zM9 17H7v-7h2v7zm4 0h-2V7h2v10zm4 0h-2v-4h2v4z\"/>\n",
              "    </g>\n",
              "</svg>\n",
              "      </button>\n",
              "\n",
              "<style>\n",
              "  .colab-df-quickchart {\n",
              "      --bg-color: #E8F0FE;\n",
              "      --fill-color: #1967D2;\n",
              "      --hover-bg-color: #E2EBFA;\n",
              "      --hover-fill-color: #174EA6;\n",
              "      --disabled-fill-color: #AAA;\n",
              "      --disabled-bg-color: #DDD;\n",
              "  }\n",
              "\n",
              "  [theme=dark] .colab-df-quickchart {\n",
              "      --bg-color: #3B4455;\n",
              "      --fill-color: #D2E3FC;\n",
              "      --hover-bg-color: #434B5C;\n",
              "      --hover-fill-color: #FFFFFF;\n",
              "      --disabled-bg-color: #3B4455;\n",
              "      --disabled-fill-color: #666;\n",
              "  }\n",
              "\n",
              "  .colab-df-quickchart {\n",
              "    background-color: var(--bg-color);\n",
              "    border: none;\n",
              "    border-radius: 50%;\n",
              "    cursor: pointer;\n",
              "    display: none;\n",
              "    fill: var(--fill-color);\n",
              "    height: 32px;\n",
              "    padding: 0;\n",
              "    width: 32px;\n",
              "  }\n",
              "\n",
              "  .colab-df-quickchart:hover {\n",
              "    background-color: var(--hover-bg-color);\n",
              "    box-shadow: 0 1px 2px rgba(60, 64, 67, 0.3), 0 1px 3px 1px rgba(60, 64, 67, 0.15);\n",
              "    fill: var(--button-hover-fill-color);\n",
              "  }\n",
              "\n",
              "  .colab-df-quickchart-complete:disabled,\n",
              "  .colab-df-quickchart-complete:disabled:hover {\n",
              "    background-color: var(--disabled-bg-color);\n",
              "    fill: var(--disabled-fill-color);\n",
              "    box-shadow: none;\n",
              "  }\n",
              "\n",
              "  .colab-df-spinner {\n",
              "    border: 2px solid var(--fill-color);\n",
              "    border-color: transparent;\n",
              "    border-bottom-color: var(--fill-color);\n",
              "    animation:\n",
              "      spin 1s steps(1) infinite;\n",
              "  }\n",
              "\n",
              "  @keyframes spin {\n",
              "    0% {\n",
              "      border-color: transparent;\n",
              "      border-bottom-color: var(--fill-color);\n",
              "      border-left-color: var(--fill-color);\n",
              "    }\n",
              "    20% {\n",
              "      border-color: transparent;\n",
              "      border-left-color: var(--fill-color);\n",
              "      border-top-color: var(--fill-color);\n",
              "    }\n",
              "    30% {\n",
              "      border-color: transparent;\n",
              "      border-left-color: var(--fill-color);\n",
              "      border-top-color: var(--fill-color);\n",
              "      border-right-color: var(--fill-color);\n",
              "    }\n",
              "    40% {\n",
              "      border-color: transparent;\n",
              "      border-right-color: var(--fill-color);\n",
              "      border-top-color: var(--fill-color);\n",
              "    }\n",
              "    60% {\n",
              "      border-color: transparent;\n",
              "      border-right-color: var(--fill-color);\n",
              "    }\n",
              "    80% {\n",
              "      border-color: transparent;\n",
              "      border-right-color: var(--fill-color);\n",
              "      border-bottom-color: var(--fill-color);\n",
              "    }\n",
              "    90% {\n",
              "      border-color: transparent;\n",
              "      border-bottom-color: var(--fill-color);\n",
              "    }\n",
              "  }\n",
              "</style>\n",
              "\n",
              "      <script>\n",
              "        async function quickchart(key) {\n",
              "          const quickchartButtonEl =\n",
              "            document.querySelector('#' + key + ' button');\n",
              "          quickchartButtonEl.disabled = true;  // To prevent multiple clicks.\n",
              "          quickchartButtonEl.classList.add('colab-df-spinner');\n",
              "          try {\n",
              "            const charts = await google.colab.kernel.invokeFunction(\n",
              "                'suggestCharts', [key], {});\n",
              "          } catch (error) {\n",
              "            console.error('Error during call to suggestCharts:', error);\n",
              "          }\n",
              "          quickchartButtonEl.classList.remove('colab-df-spinner');\n",
              "          quickchartButtonEl.classList.add('colab-df-quickchart-complete');\n",
              "        }\n",
              "        (() => {\n",
              "          let quickchartButtonEl =\n",
              "            document.querySelector('#df-e410f24a-5107-48d9-b3f5-9512a9bb57f8 button');\n",
              "          quickchartButtonEl.style.display =\n",
              "            google.colab.kernel.accessAllowed ? 'block' : 'none';\n",
              "        })();\n",
              "      </script>\n",
              "    </div>\n",
              "\n",
              "    </div>\n",
              "  </div>\n"
            ],
            "application/vnd.google.colaboratory.intrinsic+json": {
              "type": "dataframe",
              "variable_name": "books",
              "summary": "{\n  \"name\": \"books\",\n  \"rows\": 3000,\n  \"fields\": [\n    {\n      \"column\": \"book_id\",\n      \"properties\": {\n        \"dtype\": \"number\",\n        \"std\": 8375374,\n        \"min\": 843,\n        \"max\": 37054020,\n        \"num_unique_values\": 3000,\n        \"samples\": [\n          2795327,\n          9350572,\n          9366759\n        ],\n        \"semantic_type\": \"\",\n        \"description\": \"\"\n      }\n    },\n    {\n      \"column\": \"book_name\",\n      \"properties\": {\n        \"dtype\": \"string\",\n        \"num_unique_values\": 2970,\n        \"samples\": [\n          \"Some of Your Blood\",\n          \"To Fear A Painted Devil\",\n          \"The Wolf's Hour\"\n        ],\n        \"semantic_type\": \"\",\n        \"description\": \"\"\n      }\n    },\n    {\n      \"column\": \"genre\",\n      \"properties\": {\n        \"dtype\": \"category\",\n        \"num_unique_values\": 6,\n        \"samples\": [\n          \"Fantasy\",\n          \"Science Fiction\",\n          \"Thriller\"\n        ],\n        \"semantic_type\": \"\",\n        \"description\": \"\"\n      }\n    },\n    {\n      \"column\": \"summary\",\n      \"properties\": {\n        \"dtype\": \"string\",\n        \"num_unique_values\": 2998,\n        \"samples\": [\n          \" It is Christmas Eve and everyone in the house hears the crashing of furniture, followed by a wailing and hideous scream. When they get to Simeon Lee's room, they find it locked and they have to break the door down. When they finally get through the door, they find heavy furniture overturned and Simeon Lee dead, his throat slit, in a great pool of blood. Superintendent Sugden notices Pilar Estravados pick up something from the floor. She tries to conceal what she picked up, but when pressed, opens her hand to show a small bit of rubber and a small object made of wood. Superintendent Sugden explains that he is in the house by prior arrangement with the victim, who confided to him the theft of a substantial quantity of uncut diamonds from his safe. When Poirot is called in to investigate, there are therefore several main problems: who killed the victim? How was the victim killed inside a locked room? Was the murder connected to the theft of the diamonds? And what is the significance of the small triangle of rubber and the peg that Sugden is able to provide when reminded by Poirot of the clue that had been picked up by Pilar? Poirot\\u2019s investigation explores the nature of the victim \\u2013 a methodical and vengeful man \\u2013 and the way that these characteristics come out in his children. He seems focused on the idea that one of the immediate family is the murderer. When the butler mentions his confusion about the identities of the house guests, Poirot realizes that the four legitimate sons may not be the only heirs of Simeon\\u2019s temperament. The final major clue is dropped by Pilar, who while playing with balloons and one bursts, lets slip that what she found on the floor must also have been a balloon. She knows more than she realizes. Poirot warns her to be careful.\",\n          \" The story opens in the lower levels of Coruscant in 24 ABY, only a few months prior to the Yuuzhan Vong Invasion. Boba Fett has just chased down another bounty, a Rodian art dealer who sold fake works to Gebbu the Hutt. Meanwhile on Nar Shaddaa, Nom Anor, posing under the alias Udelen, recruits a Mandalorian named Goran Beviin to assassinate a politician on Ter Abbes, a grim industrial planet off the Perlemian Trade Route. Bevin quickly realizes that if the man is killed it will trigger a civil war, but even after he voices his misgivings to Boba he still carries out the mission. Nom Anor notes that Bevin did an efficient job of removing the target and plans to meet Fett for the second time on Mandalore and the capital city, Kedalbe. Nom Anor notes that Mandalore is already on his list of a world that will be harder to subdue. Anor arrives on the planet, again under the alias of Udelen and provides Fett with the location of a rendezvous where he and a select number of Fett's troops are to meet. Anor plans to reveal his true nature to Fett as the location lies along the main invasion route the Yuuzhan Vong will take into the galaxy. As the Mandalorian fleet awaits the arrival of their client, Bevin becomes impatient and scouts around for Udelen. He soon encounters what he assumes to be an asteroid, but is actually a Yuuzhan Vong ship. Unsure of what to make of their new arrivals, the Mandalorians enter battle formation and wait. Soon though, Nom Anor makes contact with Fett and asks him to board the lead ship for a face to face meeting. Once aboard the miid ro'ik warship Fett orders Bevin to discreetly gather any samples he can, while Fett runs scans with his helmet. While touring the ship, Anor explains the Yuuzhan Vong vision for the galaxy and how the Mandalorians will play a part in shaping it and both Fett and Bevin witness first hand the plans the Vong have for the humans they capture. Anor then gives Fett the plans for the next mission he has planned for the Mandalorians, to secure a landing zone on Birgis, in exchange for their continued service the Mandalore sector will be left alone. Fett knows this is a lie and that the Vong will come for them eventually, he plans to ensure he's ready when that day comes. Fett plans to use the inside track he now has to do as much damage to the invaders as possible, while he appears to help them he will do all he can to hinder them at the same time. Nom Anor amends his report, instead believing that enslaving the Mandalorians is the best way of dealing with them. One week after the invasion of Helska 4, the Mandalorians assault the spaceport on Birgis. Fett, Bevin and Cham, another Mandalorian warrior, spearhead the assault. Fett hopes to use this moment to pass on vital intel to the New Republic. Passing the intel on to a pilot during the assault, Fett only hopes that the Republic won't blow their cover. Typically, the Yuuzhan Vong leave no survivors at the spaceport. New Holgha, however, the Vong's next target remains unevacuated, the Republic hasn't acted on the intel, obviously not trusting its source. With the planets defenses sabotaged and its troops relocated elsewhere, the world falls without a serious fight. Instead, the Republic diverted troops to Pedd 4 and now New Holgha suffers, as Fett observes a miit ro'ik digest everything around it for fuel, he is reminded of the Sarlacc. As he contemplates a better and more reliable way to pass intel to the Republic, a Vong warrior asks him to assist in killing a Jedi. While Bevin stalls the Vong, Fett and a few others subdue the Jedi, who is skeptical at first, but then believes Fett and agrees to take the information off planet. As the Jedi leaves for his hidden ship, Bevin arrives, followed by the Vong warrior. When he asks what happened to the Jedi, Fett and the others kill him, with Bevin using his crushgaunts to kill the warrior. While the others collect samples from the dead warrior, Bevin scalps him for a trophy. Briika, a Mandalorian female warrior, is fatally wounded in the encounter though and dies when she reaches Slave 1. Bevin, keeping a promise he made to her, adopts Dinua, Briika's daughter as his own. Nom Anor lays plans to accelerate the coming invasion of Mandalore, he believes that the reports of the Mandalorians savagery have been greatly exaggerated. He still plans to use them, keeping them undercover from the rest of the Vong warriors, but ultimately he plans to erase their culture from the galaxy. Fett, traveling across Mandalore space reflects that his plan is so far working fine. The Republic believe the Mandalorians are in league with the Vong, while his own engineers are working on weapons designed specifically to fight them. Then an X-Wing drops into pursuit course, but when it makes contact through one of Fett's own intel nodes he stays his trigger finger. The Jedi he saved on New Holgha, a man named Kubariet asks to meet face to face. Working with New Republic Intelligence, Kubariet confirms that Fett has a deal, the Mandalorians will continue to masquerade as Vong mercenaries while at the same time passing intel to the Republic. Before he leaves, Kubariet asks if Fett will spare a few of his best commandos to act as a kind of new Cuy'val Dar to train planetary militias to fight the Vong. Kubariet gives Fett a secure datachip, if he wants to pass on intel then he can only do it through the Jedi, in return Fett hands over 'spare parts' he's collected from the Vong. When Kubariet asks if there's anything more he can do for Fett he tells him to make sure everyone knows that a Mandalorian named Briika Jeban died saving a citizen of the New Republic. When Kubariet asks who she saved, Fett simply says: 'You, Jedi, you.'\",\n          \" Deryni Checkmate takes places in March 1121, four months after the coronation of fourteen-year old King Kelson Haldane. The novel opens with the rabidly anti-Deryni leader of the Holy Church, Archbishop Edmund Loris, signing a letter that demands that the Deryni Duke of Corwyn, Alaric Morgan, recant his magical powers and submit to a life of penance. If he fails to do so, Loris threatens to excommunicate Morgan and place his entire duchy under interdict. Additionally, Morgan's cousin, Monsignor Duncan McLain, is suspended and summoned to an ecclesiastical trial to answer for his part in the events surrounding Kelson's coronation. After being warned of the threat, Kelson sends Duncan to warn Morgan of the upcoming trouble, fearing that Duncan's hidden Deryni heritage may be revealed by a trial. Duncan travels to Morgan's capital city of Coroth, where he informs his cousin of Loris' threat. In addition to the ecclesiastical threat, Morgan's duchy is being ravaged by an anti-Deryni fanatic named Warin de Grey, and the neighboring kingdom of Torenth is preparing to launch an invasion of Gwynedd. Fearing that an internal Gwyneddan conflict will weaken the kingdom prior to fighting an external enemy, Morgan and Duncan eventually decide to travel to the city of Dhassa and personally appeal to the Curia of Bishops. However, en route to Dhassa, Morgan is drugged and captured by Warin, who intends to burn the Deryni duke as a heretic. Duncan manages to rescue his cousin, but is forced to reveal his Deryni powers to ensure their escape. When the Curia learns of the cousins' actions, the two are soon excommunicated. Morgan and Duncan realize that appealing to the Curia is no longer an option, so they set out to meet with Kelson. Loris attempts to place Corwyn under Interdict, but a group of bishops refuses to participate in an action that would punish an entire duchy for the actions of its duke. Loris rages against the rebels, but he and his supporters are thrown out of Dhassa, effectively splitting the Curia. Kelson has traveled to the city of Culdi to attend the wedding of Morgan's sister, Bronwyn, and Duncan's half-brother, Kevin. Unknown to anyone, a jealous architect named Rimmell has fallen in love with Bronwyn and seeks to win her affections through the use of a love charm he acquires from an old witch woman. However, Rimmell's plan backfires horribly, and the charm kills both Bronwyn and Kevin. By the time Morgan and Duncan arrive in Culdi, Rimmell has been executed for his crime. Though Morgan is crushed with grief over the death of his sister, Kelson reminds him that he must still see to his duties. Facing an internal ecclesiastical schism, rebel fanatics ravaging his lands, and an imminent invasion from Torenth, Kelson cannot allow Morgan to wallow in his grief. Morgan agrees, and returns to his duties in service to the throne of Gwynedd.\"\n        ],\n        \"semantic_type\": \"\",\n        \"description\": \"\"\n      }\n    }\n  ]\n}"
            }
          },
          "metadata": {},
          "execution_count": 8
        }
      ],
      "source": [
        "# removing the unnamed : 0\n",
        "\n",
        "books = books[['book_id', 'book_name', 'genre', 'summary']]\n",
        "books.head(10)"
      ]
    },
    {
      "cell_type": "code",
      "execution_count": null,
      "id": "liquid-athletics",
      "metadata": {
        "colab": {
          "base_uri": "https://localhost:8080/"
        },
        "id": "liquid-athletics",
        "outputId": "f73ef200-f49e-4692-9c3e-8e1747655ea2"
      },
      "outputs": [
        {
          "output_type": "stream",
          "name": "stdout",
          "text": [
            "<class 'pandas.core.frame.DataFrame'>\n",
            "RangeIndex: 3000 entries, 0 to 2999\n",
            "Data columns (total 4 columns):\n",
            " #   Column     Non-Null Count  Dtype \n",
            "---  ------     --------------  ----- \n",
            " 0   book_id    3000 non-null   int64 \n",
            " 1   book_name  3000 non-null   object\n",
            " 2   genre      3000 non-null   object\n",
            " 3   summary    3000 non-null   object\n",
            "dtypes: int64(1), object(3)\n",
            "memory usage: 93.9+ KB\n"
          ]
        }
      ],
      "source": [
        "books.info()"
      ]
    },
    {
      "cell_type": "code",
      "execution_count": null,
      "id": "compliant-height",
      "metadata": {
        "colab": {
          "base_uri": "https://localhost:8080/",
          "height": 676
        },
        "id": "compliant-height",
        "outputId": "9e0ad68a-0ea1-422b-8c5f-5606eeded33e"
      },
      "outputs": [
        {
          "output_type": "stream",
          "name": "stderr",
          "text": [
            "<ipython-input-13-c500cf84b5e9>:2: FutureWarning: \n",
            "\n",
            "Passing `palette` without assigning `hue` is deprecated and will be removed in v0.14.0. Assign the `x` variable to `hue` and set `legend=False` for the same effect.\n",
            "\n",
            "  sn.countplot(x='genre', data=books, palette='plasma', hue=None, legend=False)\n"
          ]
        },
        {
          "output_type": "display_data",
          "data": {
            "text/plain": [
              "<Figure size 1200x600 with 1 Axes>"
            ],
            "image/png": "[encoded data removed]"
          },
          "metadata": {}
        }
      ],
      "source": [
        "plt.figure(figsize=(12, 6))\n",
        "sn.countplot(x='genre', data=books, palette='plasma', hue=None, legend=False)\n",
        "plt.xticks(rotation=45)\n",
        "plt.title(\"Book Genre Distribution\")\n",
        "plt.xlabel(\"Genre\")\n",
        "plt.ylabel(\"Count\")\n",
        "plt.tight_layout()\n",
        "plt.show()"
      ]
    },
    {
      "cell_type": "code",
      "execution_count": null,
      "id": "inclusive-motel",
      "metadata": {
        "colab": {
          "base_uri": "https://localhost:8080/",
          "height": 140
        },
        "id": "inclusive-motel",
        "outputId": "d733d7f7-b252-4cee-d2a9-715fc84b6fd8"
      },
      "outputs": [
        {
          "output_type": "execute_result",
          "data": {
            "text/plain": [
              "' As the book opens, Jason awakens on a school bus, unable to remember who or where he is, or anything about his past. He is sitting next to Piper McLean and Leo Valdez, who call him by name and say they are his girlfriend and best friend respectively. All three are part of a class field trip to the Grand Canyon, and after they arrive, a classmate Dylan turns into a Venti (Storm Spirit) and attacks the trio and their trip leader, Coach Gleeson Hedge. In the ensuing fight, Jason surprises everyone, including himself, when one of his coins turns into a sword which he uses to battle the storm spirits. Coach Hedge, who reveals himself to be a satyr during the fight, is taken captive by a fleeing spirit. After the battle, a flying chariot arrives to rescue the trio, but one of the people in it, Annabeth, is upset when she discovers that her missing boyfriend, Percy Jackson, is not there as she expected. Annabeth, seeking Percy, was told in a vision from the goddess Hera to look there for the \"guy with one shoe\", but this turns out to be Jason, who had a shoe destroyed during the fight. Jason, Piper,and Leo are told that they are demigods and are taken back to Camp Half-Blood where they meet other greek demigod children like themselves. There, Leo is revealed as a son of Hephaestus, Piper as a daughter of Aphrodite and Jason as a son of Zeus, though Hera tells him he is her champion. Jason later discovers that he is the full brother of Zeus\\'s demigod daughter Thalia Grace, who is a Hunter of Artemis. Shortly after they arrive, the three are given a quest to rescue Hera, who has been captured, and they set off. They soon discover that their enemies are working under orders from Gaea to overthrow the gods. During their quest, they encounter Thalia and the Hunters, who have been looking for Percy. Thalia and Jason reunite for the first since Jason was captured at the age of two. On the way to Aeolus\\'s castle, Jason, Leo and Piper become separated from Thalia, who promises to meet them at the Wolf House, the last place Thalia had seen Jason before this meeting. After being nearly apprehended by Aeolus, who is under Gaea\\'s orders, the trio manage to escape thanks to Mellie, Aeolus`s former assistant, and end up in San Francisco, thanks to the result of a dream Piper had with Aphrodite. After landing in San Francisco, the trio rush to Mt.Diablo to fight the giant Enceladus, who has kidnapped Piper\\'s father. They manage to kill the giant and save Piper\\'s father, after which they rush to the Wolf House to free Hera. Although the heroes and the Hunters save Hera, the king of the giants, Porphyrion, rises fully and disappears into a hole in the Earth. Jason\\'s memory then starts returning, and he remembers that he is a hero from a Roman counterpart to Camp Half-Blood somewhere near San Francisco, and is the son of Jupiter, Zeus\\'s Roman aspect. He realizes that Hera, also known as Juno, has switched him with Percy Jackson, who will be at the Roman camp with no memory of his life, in the hopes that the two camps would ultimately work together to fight the giants and defeat the goddess Gaea.'"
            ],
            "application/vnd.google.colaboratory.intrinsic+json": {
              "type": "string"
            }
          },
          "metadata": {},
          "execution_count": 14
        }
      ],
      "source": [
        "books['summary'].iloc[1]"
      ]
    },
    {
      "cell_type": "code",
      "execution_count": null,
      "id": "gothic-quick",
      "metadata": {
        "colab": {
          "base_uri": "https://localhost:8080/",
          "height": 140
        },
        "id": "gothic-quick",
        "outputId": "8e3caba7-7d28-4f02-a7eb-e3fced4376fb"
      },
      "outputs": [
        {
          "output_type": "execute_result",
          "data": {
            "text/plain": [
              "'as the book opens jason awakens on a school bus unable to remember who or where he is or anything about his past he is sitting next to piper mclean and leo valdez who call him by name and say they are his girlfriend and best friend respectively all three are part of a class field trip to the grand canyon and after they arrive a classmate dylan turns into a venti storm spirit and attacks the trio and their trip leader coach gleeson hedge in the ensuing fight jason surprises everyone including himself when one of his coins turns into a sword which he uses to battle the storm spirits coach hedge who reveals himself to be a satyr during the fight is taken captive by a fleeing spirit after the battle a flying chariot arrives to rescue the trio but one of the people in it annabeth is upset when she discovers that her missing boyfriend percy jackson is not there as she expected annabeth seeking percy was told in a vision from the goddess hera to look there for the guy with one shoe but this turns out to be jason who had a shoe destroyed during the fight jason piper and leo are told that they are demigods and are taken back to camp half blood where they meet other greek demigod children like themselves there leo is revealed as a son of hephaestus piper as a daughter of aphrodite and jason as a son of zeus though hera tells him he is her champion jason later discovers that he is the full brother of zeus s demigod daughter thalia grace who is a hunter of artemis shortly after they arrive the three are given a quest to rescue hera who has been captured and they set off they soon discover that their enemies are working under orders from gaea to overthrow the gods during their quest they encounter thalia and the hunters who have been looking for percy thalia and jason reunite for the first since jason was captured at the age of two on the way to aeolus s castle jason leo and piper become separated from thalia who promises to meet them at the wolf house the last place thalia had seen jason before this meeting after being nearly apprehended by aeolus who is under gaea s orders the trio manage to escape thanks to mellie aeolus s former assistant and end up in san francisco thanks to the result of a dream piper had with aphrodite after landing in san francisco the trio rush to mt diablo to fight the giant enceladus who has kidnapped piper s father they manage to kill the giant and save piper s father after which they rush to the wolf house to free hera although the heroes and the hunters save hera the king of the giants porphyrion rises fully and disappears into a hole in the earth jason s memory then starts returning and he remembers that he is a hero from a roman counterpart to camp half blood somewhere near san francisco and is the son of jupiter zeus s roman aspect he realizes that hera also known as juno has switched him with percy jackson who will be at the roman camp with no memory of his life in the hopes that the two camps would ultimately work together to fight the giants and defeat the goddess gaea'"
            ],
            "application/vnd.google.colaboratory.intrinsic+json": {
              "type": "string"
            }
          },
          "metadata": {},
          "execution_count": 15
        }
      ],
      "source": [
        "## cleaning the text\n",
        "\n",
        "def cleantext(text):\n",
        "\n",
        "    # removing the \"\\\"\n",
        "\n",
        "    text = re.sub(\"''\",\"\",text)\n",
        "\n",
        "    # removing special symbols\n",
        "\n",
        "    text = re.sub(\"[^a-zA-Z]\",\" \",text)\n",
        "\n",
        "    # removing the whitespaces\n",
        "\n",
        "    text = ' '.join(text.split())\n",
        "\n",
        "    # convert text to lowercase\n",
        "\n",
        "    text = text.lower()\n",
        "\n",
        "    return text\n",
        "\n",
        "\n",
        "\n",
        "books['summary'] = books['summary'].apply(lambda x:cleantext(x))\n",
        "books['summary'].iloc[1]"
      ]
    },
    {
      "cell_type": "code",
      "source": [
        "import nltk\n",
        "nltk.download('stopwords')\n",
        "from nltk.corpus import stopwords\n",
        "stop_words = set(stopwords.words('english'))\n",
        "\n",
        "def cleantext1(text):\n",
        "    text = text.replace(\"'\", \"\")\n",
        "    text = re.sub(\"[^a-zA-Z]\", \" \", text)\n",
        "    text = text.lower()\n",
        "    text = ' '.join(text.split())\n",
        "    tokens = text.split()\n",
        "    tokens = [word for word in tokens if word not in stop_words]\n",
        "    return ' '.join(tokens)\n",
        "books['summary'] = books['summary'].apply(lambda x:cleantext1(x))\n",
        "books['summary'].iloc[1]"
      ],
      "metadata": {
        "colab": {
          "base_uri": "https://localhost:8080/",
          "height": 175
        },
        "id": "EdwayRcYJOCS",
        "outputId": "875359fe-0beb-4b95-cb20-7279a4e72847"
      },
      "id": "EdwayRcYJOCS",
      "execution_count": null,
      "outputs": [
        {
          "output_type": "stream",
          "name": "stderr",
          "text": [
            "[nltk_data] Downloading package stopwords to /root/nltk_data...\n",
            "[nltk_data]   Package stopwords is already up-to-date!\n"
          ]
        },
        {
          "output_type": "execute_result",
          "data": {
            "text/plain": [
              "'book opens jason awakens school bus unable remember anything past sitting next piper mclean leo valdez call name say girlfriend best friend respectively three part class field trip grand canyon arrive classmate dylan turns venti storm spirit attacks trio trip leader coach gleeson hedge ensuing fight jason surprises everyone including one coins turns sword uses battle storm spirits coach hedge reveals satyr fight taken captive fleeing spirit battle flying chariot arrives rescue trio one people annabeth upset discovers missing boyfriend percy jackson expected annabeth seeking percy told vision goddess hera look guy one shoe turns jason shoe destroyed fight jason piper leo told demigods taken back camp half blood meet greek demigod children like leo revealed son hephaestus piper daughter aphrodite jason son zeus though hera tells champion jason later discovers full brother zeus demigod daughter thalia grace hunter artemis shortly arrive three given quest rescue hera captured set soon discover enemies working orders gaea overthrow gods quest encounter thalia hunters looking percy thalia jason reunite first since jason captured age two way aeolus castle jason leo piper become separated thalia promises meet wolf house last place thalia seen jason meeting nearly apprehended aeolus gaea orders trio manage escape thanks mellie aeolus former assistant end san francisco thanks result dream piper aphrodite landing san francisco trio rush mt diablo fight giant enceladus kidnapped piper father manage kill giant save piper father rush wolf house free hera although heroes hunters save hera king giants porphyrion rises fully disappears hole earth jason memory starts returning remembers hero roman counterpart camp half blood somewhere near san francisco son jupiter zeus roman aspect realizes hera also known juno switched percy jackson roman camp memory life hopes two camps would ultimately work together fight giants defeat goddess gaea'"
            ],
            "application/vnd.google.colaboratory.intrinsic+json": {
              "type": "string"
            }
          },
          "metadata": {},
          "execution_count": 21
        }
      ]
    },
    {
      "cell_type": "markdown",
      "id": "searching-startup",
      "metadata": {
        "id": "searching-startup"
      },
      "source": [
        "#### Plotting the most Frequent Words"
      ]
    },
    {
      "cell_type": "code",
      "execution_count": null,
      "id": "beautiful-junction",
      "metadata": {
        "scrolled": true,
        "colab": {
          "base_uri": "https://localhost:8080/",
          "height": 465
        },
        "id": "beautiful-junction",
        "outputId": "729c0905-d136-462f-ef18-6b46733c2548"
      },
      "outputs": [
        {
          "output_type": "display_data",
          "data": {
            "text/plain": [
              "<Figure size 700x500 with 1 Axes>"
            ],
            "image/png": "[encoded data removed]"
          },
          "metadata": {}
        }
      ],
      "source": [
        "def showmostfrequentwords(text,no_of_words):\n",
        "\n",
        "    allwords = ' '.join([char for char in text])\n",
        "    allwords = allwords.split()\n",
        "    fdist = nltk.FreqDist(allwords)\n",
        "\n",
        "    wordsdf = pd.DataFrame({'word':list(fdist.keys()),'count':list(fdist.values())})\n",
        "\n",
        "    df = wordsdf.nlargest(columns=\"count\",n = no_of_words)\n",
        "\n",
        "    plt.figure(figsize=(7,5))\n",
        "    ax = sn.barplot(data=df,x = 'count',y = 'word')\n",
        "    ax.set(ylabel = 'Word')\n",
        "    plt.show()\n",
        "\n",
        "    return wordsdf\n",
        "\n",
        "\n",
        "# 25 most frequent words\n",
        "\n",
        "wordsdf = showmostfrequentwords(books['summary'],25)"
      ]
    },
    {
      "cell_type": "code",
      "source": [
        "def showmostfrequentwords1(text, no_of_words):\n",
        "    allwords = ' '.join(text).split()\n",
        "    fdist = nltk.FreqDist(allwords)\n",
        "\n",
        "    wordsdf = pd.DataFrame({'word': list(fdist.keys()), 'count': list(fdist.values())})\n",
        "    df = wordsdf.nlargest(columns=\"count\", n=no_of_words)\n",
        "\n",
        "    plt.figure(figsize=(8, 6))\n",
        "    ax = sn.barplot(data=df, x='count', y='word', palette='viridis')\n",
        "    ax.set(ylabel='Word', xlabel='Count', title=f'Top {no_of_words} Most Frequent Words')\n",
        "    plt.tight_layout()\n",
        "    plt.show()\n",
        "\n",
        "    return wordsdf\n",
        "wordsdf1 = showmostfrequentwords1(books['summary'],25)"
      ],
      "metadata": {
        "colab": {
          "base_uri": "https://localhost:8080/",
          "height": 714
        },
        "id": "57gDLCPTKFVs",
        "outputId": "6889dcf3-9fe1-40b1-9c80-bb46c6c1accf"
      },
      "id": "57gDLCPTKFVs",
      "execution_count": null,
      "outputs": [
        {
          "output_type": "stream",
          "name": "stderr",
          "text": [
            "<ipython-input-24-f109126a4b32>:9: FutureWarning: \n",
            "\n",
            "Passing `palette` without assigning `hue` is deprecated and will be removed in v0.14.0. Assign the `y` variable to `hue` and set `legend=False` for the same effect.\n",
            "\n",
            "  ax = sn.barplot(data=df, x='count', y='word', palette='viridis')\n"
          ]
        },
        {
          "output_type": "display_data",
          "data": {
            "text/plain": [
              "<Figure size 800x600 with 1 Axes>"
            ],
            "image/png": "[encoded data removed]"
          },
          "metadata": {}
        }
      ]
    },
    {
      "cell_type": "code",
      "execution_count": null,
      "id": "confident-mentor",
      "metadata": {
        "colab": {
          "base_uri": "https://localhost:8080/",
          "height": 363
        },
        "id": "confident-mentor",
        "outputId": "2275e8b9-ba1e-4112-b54a-1a30c875c558"
      },
      "outputs": [
        {
          "output_type": "execute_result",
          "data": {
            "text/plain": [
              "<pandas.io.formats.style.Styler at 0x793529aa2bd0>"
            ],
            "text/html": [
              "<style type=\"text/css\">\n",
              "#T_5b8cc_row0_col1 {\n",
              "  background-color: #f0f921;\n",
              "  color: #000000;\n",
              "}\n",
              "#T_5b8cc_row1_col1 {\n",
              "  background-color: #8d0ba5;\n",
              "  color: #f1f1f1;\n",
              "}\n",
              "#T_5b8cc_row2_col1 {\n",
              "  background-color: #8004a8;\n",
              "  color: #f1f1f1;\n",
              "}\n",
              "#T_5b8cc_row3_col1 {\n",
              "  background-color: #7401a8;\n",
              "  color: #f1f1f1;\n",
              "}\n",
              "#T_5b8cc_row4_col1 {\n",
              "  background-color: #46039f;\n",
              "  color: #f1f1f1;\n",
              "}\n",
              "#T_5b8cc_row5_col1 {\n",
              "  background-color: #41049d;\n",
              "  color: #f1f1f1;\n",
              "}\n",
              "#T_5b8cc_row6_col1 {\n",
              "  background-color: #2a0593;\n",
              "  color: #f1f1f1;\n",
              "}\n",
              "#T_5b8cc_row7_col1 {\n",
              "  background-color: #220690;\n",
              "  color: #f1f1f1;\n",
              "}\n",
              "#T_5b8cc_row8_col1 {\n",
              "  background-color: #130789;\n",
              "  color: #f1f1f1;\n",
              "}\n",
              "#T_5b8cc_row9_col1 {\n",
              "  background-color: #0d0887;\n",
              "  color: #f1f1f1;\n",
              "}\n",
              "</style>\n",
              "<table id=\"T_5b8cc\" class=\"dataframe\">\n",
              "  <thead>\n",
              "    <tr>\n",
              "      <th class=\"blank level0\" >&nbsp;</th>\n",
              "      <th id=\"T_5b8cc_level0_col0\" class=\"col_heading level0 col0\" >word</th>\n",
              "      <th id=\"T_5b8cc_level0_col1\" class=\"col_heading level0 col1\" >count</th>\n",
              "    </tr>\n",
              "  </thead>\n",
              "  <tbody>\n",
              "    <tr>\n",
              "      <th id=\"T_5b8cc_level0_row0\" class=\"row_heading level0 row0\" >258</th>\n",
              "      <td id=\"T_5b8cc_row0_col0\" class=\"data row0 col0\" >one</td>\n",
              "      <td id=\"T_5b8cc_row0_col1\" class=\"data row0 col1\" >3707</td>\n",
              "    </tr>\n",
              "    <tr>\n",
              "      <th id=\"T_5b8cc_level0_row1\" class=\"row_heading level0 row1\" >1314</th>\n",
              "      <td id=\"T_5b8cc_row1_col0\" class=\"data row1 col0\" >time</td>\n",
              "      <td id=\"T_5b8cc_row1_col1\" class=\"data row1 col1\" >2312</td>\n",
              "    </tr>\n",
              "    <tr>\n",
              "      <th id=\"T_5b8cc_level0_row2\" class=\"row_heading level0 row2\" >38</th>\n",
              "      <td id=\"T_5b8cc_row2_col0\" class=\"data row2 col0\" >two</td>\n",
              "      <td id=\"T_5b8cc_row2_col1\" class=\"data row2 col1\" >2235</td>\n",
              "    </tr>\n",
              "    <tr>\n",
              "      <th id=\"T_5b8cc_level0_row3\" class=\"row_heading level0 row3\" >451</th>\n",
              "      <td id=\"T_5b8cc_row3_col0\" class=\"data row3 col0\" >also</td>\n",
              "      <td id=\"T_5b8cc_row3_col1\" class=\"data row3 col1\" >2179</td>\n",
              "    </tr>\n",
              "    <tr>\n",
              "      <th id=\"T_5b8cc_level0_row4\" class=\"row_heading level0 row4\" >364</th>\n",
              "      <td id=\"T_5b8cc_row4_col0\" class=\"data row4 col0\" >back</td>\n",
              "      <td id=\"T_5b8cc_row4_col1\" class=\"data row4 col1\" >1952</td>\n",
              "    </tr>\n",
              "    <tr>\n",
              "      <th id=\"T_5b8cc_level0_row5\" class=\"row_heading level0 row5\" >880</th>\n",
              "      <td id=\"T_5b8cc_row5_col0\" class=\"data row5 col0\" >new</td>\n",
              "      <td id=\"T_5b8cc_row5_col1\" class=\"data row5 col1\" >1934</td>\n",
              "    </tr>\n",
              "    <tr>\n",
              "      <th id=\"T_5b8cc_level0_row6\" class=\"row_heading level0 row6\" >244</th>\n",
              "      <td id=\"T_5b8cc_row6_col0\" class=\"data row6 col0\" >find</td>\n",
              "      <td id=\"T_5b8cc_row6_col1\" class=\"data row6 col1\" >1829</td>\n",
              "    </tr>\n",
              "    <tr>\n",
              "      <th id=\"T_5b8cc_level0_row7\" class=\"row_heading level0 row7\" >1476</th>\n",
              "      <td id=\"T_5b8cc_row7_col0\" class=\"data row7 col0\" >man</td>\n",
              "      <td id=\"T_5b8cc_row7_col1\" class=\"data row7 col1\" >1800</td>\n",
              "    </tr>\n",
              "    <tr>\n",
              "      <th id=\"T_5b8cc_level0_row8\" class=\"row_heading level0 row8\" >454</th>\n",
              "      <td id=\"T_5b8cc_row8_col0\" class=\"data row8 col0\" >life</td>\n",
              "      <td id=\"T_5b8cc_row8_col1\" class=\"data row8 col1\" >1753</td>\n",
              "    </tr>\n",
              "    <tr>\n",
              "      <th id=\"T_5b8cc_level0_row9\" class=\"row_heading level0 row9\" >426</th>\n",
              "      <td id=\"T_5b8cc_row9_col0\" class=\"data row9 col0\" >father</td>\n",
              "      <td id=\"T_5b8cc_row9_col1\" class=\"data row9 col1\" >1734</td>\n",
              "    </tr>\n",
              "  </tbody>\n",
              "</table>\n"
            ]
          },
          "metadata": {},
          "execution_count": 26
        }
      ],
      "source": [
        "wordsdf.sort_values('count',ascending=False).head(10).style.background_gradient(cmap = 'plasma')"
      ]
    },
    {
      "cell_type": "code",
      "source": [
        "wordsdf1.sort_values('count', ascending=False).head(10).style.background_gradient(cmap='plasma')\n"
      ],
      "metadata": {
        "colab": {
          "base_uri": "https://localhost:8080/",
          "height": 363
        },
        "id": "XrfbvthEK4GU",
        "outputId": "583dc392-0724-441f-d780-cd76530e890d"
      },
      "id": "XrfbvthEK4GU",
      "execution_count": null,
      "outputs": [
        {
          "output_type": "execute_result",
          "data": {
            "text/plain": [
              "<pandas.io.formats.style.Styler at 0x793529c07ed0>"
            ],
            "text/html": [
              "<style type=\"text/css\">\n",
              "#T_83665_row0_col1 {\n",
              "  background-color: #f0f921;\n",
              "  color: #000000;\n",
              "}\n",
              "#T_83665_row1_col1 {\n",
              "  background-color: #8d0ba5;\n",
              "  color: #f1f1f1;\n",
              "}\n",
              "#T_83665_row2_col1 {\n",
              "  background-color: #8004a8;\n",
              "  color: #f1f1f1;\n",
              "}\n",
              "#T_83665_row3_col1 {\n",
              "  background-color: #7401a8;\n",
              "  color: #f1f1f1;\n",
              "}\n",
              "#T_83665_row4_col1 {\n",
              "  background-color: #46039f;\n",
              "  color: #f1f1f1;\n",
              "}\n",
              "#T_83665_row5_col1 {\n",
              "  background-color: #41049d;\n",
              "  color: #f1f1f1;\n",
              "}\n",
              "#T_83665_row6_col1 {\n",
              "  background-color: #2a0593;\n",
              "  color: #f1f1f1;\n",
              "}\n",
              "#T_83665_row7_col1 {\n",
              "  background-color: #220690;\n",
              "  color: #f1f1f1;\n",
              "}\n",
              "#T_83665_row8_col1 {\n",
              "  background-color: #130789;\n",
              "  color: #f1f1f1;\n",
              "}\n",
              "#T_83665_row9_col1 {\n",
              "  background-color: #0d0887;\n",
              "  color: #f1f1f1;\n",
              "}\n",
              "</style>\n",
              "<table id=\"T_83665\" class=\"dataframe\">\n",
              "  <thead>\n",
              "    <tr>\n",
              "      <th class=\"blank level0\" >&nbsp;</th>\n",
              "      <th id=\"T_83665_level0_col0\" class=\"col_heading level0 col0\" >word</th>\n",
              "      <th id=\"T_83665_level0_col1\" class=\"col_heading level0 col1\" >count</th>\n",
              "    </tr>\n",
              "  </thead>\n",
              "  <tbody>\n",
              "    <tr>\n",
              "      <th id=\"T_83665_level0_row0\" class=\"row_heading level0 row0\" >258</th>\n",
              "      <td id=\"T_83665_row0_col0\" class=\"data row0 col0\" >one</td>\n",
              "      <td id=\"T_83665_row0_col1\" class=\"data row0 col1\" >3707</td>\n",
              "    </tr>\n",
              "    <tr>\n",
              "      <th id=\"T_83665_level0_row1\" class=\"row_heading level0 row1\" >1314</th>\n",
              "      <td id=\"T_83665_row1_col0\" class=\"data row1 col0\" >time</td>\n",
              "      <td id=\"T_83665_row1_col1\" class=\"data row1 col1\" >2312</td>\n",
              "    </tr>\n",
              "    <tr>\n",
              "      <th id=\"T_83665_level0_row2\" class=\"row_heading level0 row2\" >38</th>\n",
              "      <td id=\"T_83665_row2_col0\" class=\"data row2 col0\" >two</td>\n",
              "      <td id=\"T_83665_row2_col1\" class=\"data row2 col1\" >2235</td>\n",
              "    </tr>\n",
              "    <tr>\n",
              "      <th id=\"T_83665_level0_row3\" class=\"row_heading level0 row3\" >451</th>\n",
              "      <td id=\"T_83665_row3_col0\" class=\"data row3 col0\" >also</td>\n",
              "      <td id=\"T_83665_row3_col1\" class=\"data row3 col1\" >2179</td>\n",
              "    </tr>\n",
              "    <tr>\n",
              "      <th id=\"T_83665_level0_row4\" class=\"row_heading level0 row4\" >364</th>\n",
              "      <td id=\"T_83665_row4_col0\" class=\"data row4 col0\" >back</td>\n",
              "      <td id=\"T_83665_row4_col1\" class=\"data row4 col1\" >1952</td>\n",
              "    </tr>\n",
              "    <tr>\n",
              "      <th id=\"T_83665_level0_row5\" class=\"row_heading level0 row5\" >880</th>\n",
              "      <td id=\"T_83665_row5_col0\" class=\"data row5 col0\" >new</td>\n",
              "      <td id=\"T_83665_row5_col1\" class=\"data row5 col1\" >1934</td>\n",
              "    </tr>\n",
              "    <tr>\n",
              "      <th id=\"T_83665_level0_row6\" class=\"row_heading level0 row6\" >244</th>\n",
              "      <td id=\"T_83665_row6_col0\" class=\"data row6 col0\" >find</td>\n",
              "      <td id=\"T_83665_row6_col1\" class=\"data row6 col1\" >1829</td>\n",
              "    </tr>\n",
              "    <tr>\n",
              "      <th id=\"T_83665_level0_row7\" class=\"row_heading level0 row7\" >1476</th>\n",
              "      <td id=\"T_83665_row7_col0\" class=\"data row7 col0\" >man</td>\n",
              "      <td id=\"T_83665_row7_col1\" class=\"data row7 col1\" >1800</td>\n",
              "    </tr>\n",
              "    <tr>\n",
              "      <th id=\"T_83665_level0_row8\" class=\"row_heading level0 row8\" >454</th>\n",
              "      <td id=\"T_83665_row8_col0\" class=\"data row8 col0\" >life</td>\n",
              "      <td id=\"T_83665_row8_col1\" class=\"data row8 col1\" >1753</td>\n",
              "    </tr>\n",
              "    <tr>\n",
              "      <th id=\"T_83665_level0_row9\" class=\"row_heading level0 row9\" >426</th>\n",
              "      <td id=\"T_83665_row9_col0\" class=\"data row9 col0\" >father</td>\n",
              "      <td id=\"T_83665_row9_col1\" class=\"data row9 col1\" >1734</td>\n",
              "    </tr>\n",
              "  </tbody>\n",
              "</table>\n"
            ]
          },
          "metadata": {},
          "execution_count": 27
        }
      ]
    },
    {
      "cell_type": "markdown",
      "id": "contrary-doctrine",
      "metadata": {
        "id": "contrary-doctrine"
      },
      "source": [
        "### Removing the stopwords"
      ]
    },
    {
      "cell_type": "code",
      "execution_count": null,
      "id": "convinced-rebound",
      "metadata": {
        "collapsed": true,
        "colab": {
          "base_uri": "https://localhost:8080/",
          "height": 175
        },
        "id": "convinced-rebound",
        "outputId": "13b9969d-b8ac-41b0-e013-3d55072206c9"
      },
      "outputs": [
        {
          "output_type": "stream",
          "name": "stderr",
          "text": [
            "[nltk_data] Downloading package stopwords to /root/nltk_data...\n",
            "[nltk_data]   Package stopwords is already up-to-date!\n"
          ]
        },
        {
          "output_type": "execute_result",
          "data": {
            "text/plain": [
              "'book opens jason awakens school bus unable remember anything past sitting next piper mclean leo valdez call name say girlfriend best friend respectively three part class field trip grand canyon arrive classmate dylan turns venti storm spirit attacks trio trip leader coach gleeson hedge ensuing fight jason surprises everyone including one coins turns sword uses battle storm spirits coach hedge reveals satyr fight taken captive fleeing spirit battle flying chariot arrives rescue trio one people annabeth upset discovers missing boyfriend percy jackson expected annabeth seeking percy told vision goddess hera look guy one shoe turns jason shoe destroyed fight jason piper leo told demigods taken back camp half blood meet greek demigod children like leo revealed son hephaestus piper daughter aphrodite jason son zeus though hera tells champion jason later discovers full brother zeus demigod daughter thalia grace hunter artemis shortly arrive three given quest rescue hera captured set soon discover enemies working orders gaea overthrow gods quest encounter thalia hunters looking percy thalia jason reunite first since jason captured age two way aeolus castle jason leo piper become separated thalia promises meet wolf house last place thalia seen jason meeting nearly apprehended aeolus gaea orders trio manage escape thanks mellie aeolus former assistant end san francisco thanks result dream piper aphrodite landing san francisco trio rush mt diablo fight giant enceladus kidnapped piper father manage kill giant save piper father rush wolf house free hera although heroes hunters save hera king giants porphyrion rises fully disappears hole earth jason memory starts returning remembers hero roman counterpart camp half blood somewhere near san francisco son jupiter zeus roman aspect realizes hera also known juno switched percy jackson roman camp memory life hopes two camps would ultimately work together fight giants defeat goddess gaea'"
            ],
            "application/vnd.google.colaboratory.intrinsic+json": {
              "type": "string"
            }
          },
          "metadata": {},
          "execution_count": 28
        }
      ],
      "source": [
        "# nltk.download('stopwords')\n",
        "# from nltk.corpus import stopwords\n",
        "# stop_words = set(stopwords.words('english'))\n",
        "\n",
        "# # removing the stopwords\n",
        "\n",
        "# def removestopwords(text):\n",
        "\n",
        "#     removedstopword = [word for word in text.split() if word not in stop_words]\n",
        "#     return ' '.join(removedstopword)\n",
        "\n",
        "# books['summary'] = books['summary'].apply(lambda x:removestopwords(x))\n",
        "# books['summary'].iloc[1]"
      ]
    },
    {
      "cell_type": "markdown",
      "id": "efficient-purple",
      "metadata": {
        "id": "efficient-purple"
      },
      "source": [
        "## Lemmatizing"
      ]
    },
    {
      "cell_type": "code",
      "execution_count": null,
      "id": "valued-gather",
      "metadata": {
        "colab": {
          "base_uri": "https://localhost:8080/"
        },
        "id": "valued-gather",
        "outputId": "31dbb25a-145e-4ec4-9b15-e3c7234cd72b"
      },
      "outputs": [
        {
          "output_type": "stream",
          "name": "stderr",
          "text": [
            "[nltk_data] Downloading package wordnet to /root/nltk_data...\n"
          ]
        }
      ],
      "source": [
        "nltk.download('wordnet')\n",
        "from nltk.stem import WordNetLemmatizer\n",
        "\n",
        "lemma=WordNetLemmatizer()\n",
        "\n",
        "def lematizing(sentence):\n",
        "    stemSentence = \"\"\n",
        "    for word in sentence.split():\n",
        "        stem = lemma.lemmatize(word)\n",
        "        stemSentence += stem\n",
        "        stemSentence += \" \"\n",
        "    stemSentence = stemSentence.strip()\n",
        "    return stemSentence\n",
        "\n",
        "\n",
        "books['summary'] = books['summary'].apply(lambda x: lematizing(x))"
      ]
    },
    {
      "cell_type": "code",
      "source": [
        "from nltk.corpus import wordnet\n",
        "from nltk import pos_tag\n",
        "from nltk.tokenize import word_tokenize\n",
        "nltk.download('punkt_tab')\n",
        "nltk.download('averaged_perceptron_tagger_eng')\n",
        "nltk.download('omw-1.4')  # WordNet's Open Multilingual WordNet\n",
        "\n",
        "def get_wordnet_pos(tag):\n",
        "    if tag.startswith('J'):\n",
        "        return wordnet.ADJ\n",
        "    elif tag.startswith('V'):\n",
        "        return wordnet.VERB\n",
        "    elif tag.startswith('N'):\n",
        "        return wordnet.NOUN\n",
        "    elif tag.startswith('R'):\n",
        "        return wordnet.ADV\n",
        "    else:\n",
        "        return wordnet.NOUN  # default\n",
        "\n",
        "def lemmatize_sentence1(sentence):\n",
        "    tokens = word_tokenize(sentence)\n",
        "    tagged = pos_tag(tokens)\n",
        "    lemmatized = [lemma.lemmatize(word, get_wordnet_pos(tag)) for word, tag in tagged]\n",
        "    return ' '.join(lemmatized)\n"
      ],
      "metadata": {
        "colab": {
          "base_uri": "https://localhost:8080/"
        },
        "id": "MJeRDgaRZZYn",
        "outputId": "3caeceea-d5c1-466a-a853-93342af2d2a5"
      },
      "id": "MJeRDgaRZZYn",
      "execution_count": null,
      "outputs": [
        {
          "output_type": "stream",
          "name": "stderr",
          "text": [
            "[nltk_data] Downloading package punkt_tab to /root/nltk_data...\n",
            "[nltk_data]   Package punkt_tab is already up-to-date!\n",
            "[nltk_data] Downloading package averaged_perceptron_tagger_eng to\n",
            "[nltk_data]     /root/nltk_data...\n",
            "[nltk_data]   Unzipping taggers/averaged_perceptron_tagger_eng.zip.\n",
            "[nltk_data] Downloading package omw-1.4 to /root/nltk_data...\n",
            "[nltk_data]   Package omw-1.4 is already up-to-date!\n"
          ]
        }
      ]
    },
    {
      "cell_type": "code",
      "source": [
        "books['summary'] = books['summary'].apply(lemmatize_sentence1)"
      ],
      "metadata": {
        "id": "_YBDE4yxZewN"
      },
      "id": "_YBDE4yxZewN",
      "execution_count": null,
      "outputs": []
    },
    {
      "cell_type": "code",
      "source": [
        "import re\n",
        "import nltk\n",
        "from nltk.corpus import stopwords, wordnet\n",
        "from nltk import pos_tag, word_tokenize\n",
        "from nltk.stem import WordNetLemmatizer\n",
        "\n",
        "# Downloads (run once)\n",
        "nltk.download('punkt')\n",
        "nltk.download('stopwords')\n",
        "nltk.download('wordnet')\n",
        "nltk.download('averaged_perceptron_tagger')\n",
        "nltk.download('omw-1.4')\n",
        "\n",
        "# Initialize\n",
        "stop_words = set(stopwords.words('english'))\n",
        "lemmatizer = WordNetLemmatizer()\n",
        "\n",
        "def lemmatize_text2(text):\n",
        "    # Clean and lowercase\n",
        "    text = re.sub(\"[^a-zA-Z]\", \" \", text).lower()\n",
        "    tokens = word_tokenize(text)\n",
        "\n",
        "    # Remove stopwords\n",
        "    tokens = [word for word in tokens if word not in stop_words]\n",
        "\n",
        "    # POS tagging and lemmatization\n",
        "    tagged_tokens = pos_tag(tokens)\n",
        "    lemmatized_tokens = [\n",
        "        lemmatizer.lemmatize(word, {\n",
        "            'J': wordnet.ADJ,\n",
        "            'V': wordnet.VERB,\n",
        "            'N': wordnet.NOUN,\n",
        "            'R': wordnet.ADV\n",
        "        }.get(tag[0], wordnet.NOUN)) for word, tag in tagged_tokens\n",
        "    ]\n",
        "\n",
        "    return ' '.join(lemmatized_tokens)\n"
      ],
      "metadata": {
        "colab": {
          "base_uri": "https://localhost:8080/"
        },
        "id": "vo65Ql6La5at",
        "outputId": "9dcf6af3-03bf-4213-f0c1-02d46dbe401c"
      },
      "id": "vo65Ql6La5at",
      "execution_count": null,
      "outputs": [
        {
          "output_type": "stream",
          "name": "stderr",
          "text": [
            "[nltk_data] Downloading package punkt to /root/nltk_data...\n",
            "[nltk_data]   Package punkt is already up-to-date!\n",
            "[nltk_data] Downloading package stopwords to /root/nltk_data...\n",
            "[nltk_data]   Package stopwords is already up-to-date!\n",
            "[nltk_data] Downloading package wordnet to /root/nltk_data...\n",
            "[nltk_data]   Package wordnet is already up-to-date!\n",
            "[nltk_data] Downloading package averaged_perceptron_tagger to\n",
            "[nltk_data]     /root/nltk_data...\n",
            "[nltk_data]   Package averaged_perceptron_tagger is already up-to-\n",
            "[nltk_data]       date!\n",
            "[nltk_data] Downloading package omw-1.4 to /root/nltk_data...\n",
            "[nltk_data]   Package omw-1.4 is already up-to-date!\n"
          ]
        }
      ]
    },
    {
      "cell_type": "code",
      "source": [
        "books['summary'] = books['summary'].apply(lemmatize_text2)\n"
      ],
      "metadata": {
        "id": "VSRaRoVna6rp"
      },
      "execution_count": null,
      "outputs": [],
      "id": "VSRaRoVna6rp"
    },
    {
      "cell_type": "markdown",
      "id": "freelance-property",
      "metadata": {
        "id": "freelance-property"
      },
      "source": [
        "## Stemming"
      ]
    },
    {
      "cell_type": "code",
      "execution_count": null,
      "id": "excellent-acoustic",
      "metadata": {
        "colab": {
          "base_uri": "https://localhost:8080/",
          "height": 140
        },
        "id": "excellent-acoustic",
        "outputId": "a83c9878-fbcc-4069-d50e-be653b4a2b90"
      },
      "outputs": [
        {
          "output_type": "execute_result",
          "data": {
            "text/plain": [
              "'book open jason awaken school bu unabl rememb anyth past sit next piper mclean leo valdez call name say girlfriend best friend respect three part class field trip grand canyon arriv classmat dylan turn venti storm spirit attack trio trip leader coach gleeson hedg ensu fight jason surpri everyon includ one coin turn sword u battl storm spirit coach hedg reveal satyr fight take captiv flee spirit battl fli chariot arriv rescu trio one peopl annabeth upset discov miss boyfriend perci jackson expect annabeth seek perci tell vision goddess hera look guy one shoe turn jason shoe destroy fight jason piper leo tell demigod take back camp half blood meet greek demigod child like leo reveal son hephaestu piper daughter aphrodit jason son zeu though hera tell champion jason later discov full brother zeu demigod daughter thalia grace hunter artemi shortli arriv three give quest rescu hera captur set soon discov enemi work order gaea overthrow god quest encount thalia hunter look perci thalia jason reunit first sinc jason captur age two way aeolu castl jason leo piper becom separ thalia promi meet wolf hou last place thalia see jason meet nearli apprehend aeolu gaea order trio manag escap thank melli aeolu former assist end san francisco thank result dream piper aphrodit land san francisco trio rush mt diablo fight giant enceladu kidnap piper father manag kill giant save piper father rush wolf hou free hera although hero hunter save hera king giant porphyrion rise fulli disappear hole earth jason memori start return rememb hero roman counterpart camp half blood somewh near san francisco son jupit zeu roman aspect realiz hera also know juno switch perci jackson roman camp memori life hope two camp would ultim work togeth fight giant defeat goddess gaea'"
            ],
            "application/vnd.google.colaboratory.intrinsic+json": {
              "type": "string"
            }
          },
          "metadata": {},
          "execution_count": 43
        }
      ],
      "source": [
        "# Approach\n",
        "\n",
        "from nltk.stem import PorterStemmer\n",
        "stemmer = PorterStemmer()\n",
        "\n",
        "def stemming(sentence):\n",
        "\n",
        "    stemmed_sentence = \"\"\n",
        "    for word in sentence.split():\n",
        "        stem = stemmer.stem(word)\n",
        "        stemmed_sentence+=stem\n",
        "        stemmed_sentence+=\" \"\n",
        "\n",
        "    stemmed_sentence = stemmed_sentence.strip()\n",
        "    return stemmed_sentence\n",
        "\n",
        "books['summary'] = books['summary'].apply(lambda text:stemming(text))\n",
        "books['summary'].iloc[1]"
      ]
    },
    {
      "cell_type": "code",
      "source": [
        "from nltk.stem import PorterStemmer\n",
        "\n",
        "stemmer = PorterStemmer()\n",
        "\n",
        "def stem_text1(sentence):\n",
        "    return ' '.join([stemmer.stem(word) for word in sentence.split()])\n",
        "\n",
        "#books['summary'] = books['summary'].apply(stem_text1)\n"
      ],
      "metadata": {
        "id": "nKoLqIJKa56M"
      },
      "execution_count": null,
      "outputs": [],
      "id": "nKoLqIJKa56M"
    },
    {
      "cell_type": "code",
      "execution_count": null,
      "id": "little-morrison",
      "metadata": {
        "colab": {
          "base_uri": "https://localhost:8080/",
          "height": 714
        },
        "id": "little-morrison",
        "outputId": "2f46809b-42d2-4699-c83d-c74283073c8a"
      },
      "outputs": [
        {
          "output_type": "stream",
          "name": "stderr",
          "text": [
            "<ipython-input-24-f109126a4b32>:9: FutureWarning: \n",
            "\n",
            "Passing `palette` without assigning `hue` is deprecated and will be removed in v0.14.0. Assign the `y` variable to `hue` and set `legend=False` for the same effect.\n",
            "\n",
            "  ax = sn.barplot(data=df, x='count', y='word', palette='viridis')\n"
          ]
        },
        {
          "output_type": "display_data",
          "data": {
            "text/plain": [
              "<Figure size 800x600 with 1 Axes>"
            ],
            "image/png": "[encoded data removed]"
          },
          "metadata": {}
        }
      ],
      "source": [
        "# visualising frewords\n",
        "\n",
        "freq_df = showmostfrequentwords1(books['summary'],25)"
      ]
    },
    {
      "cell_type": "code",
      "execution_count": null,
      "id": "simple-waters",
      "metadata": {
        "colab": {
          "base_uri": "https://localhost:8080/",
          "height": 363
        },
        "id": "simple-waters",
        "outputId": "c2a7b4bd-303b-4c44-ef0e-1f3c9ca74aaf"
      },
      "outputs": [
        {
          "output_type": "execute_result",
          "data": {
            "text/plain": [
              "<pandas.io.formats.style.Styler at 0x793526fd1490>"
            ],
            "text/html": [
              "<style type=\"text/css\">\n",
              "#T_88b24_row0_col1 {\n",
              "  background-color: #f0f921;\n",
              "  color: #000000;\n",
              "}\n",
              "#T_88b24_row1_col1 {\n",
              "  background-color: #f79143;\n",
              "  color: #f1f1f1;\n",
              "}\n",
              "#T_88b24_row2_col1 {\n",
              "  background-color: #ea7457;\n",
              "  color: #f1f1f1;\n",
              "}\n",
              "#T_88b24_row3_col1 {\n",
              "  background-color: #d14e72;\n",
              "  color: #f1f1f1;\n",
              "}\n",
              "#T_88b24_row4_col1 {\n",
              "  background-color: #9d189d;\n",
              "  color: #f1f1f1;\n",
              "}\n",
              "#T_88b24_row5_col1 {\n",
              "  background-color: #5801a4;\n",
              "  color: #f1f1f1;\n",
              "}\n",
              "#T_88b24_row6_col1 {\n",
              "  background-color: #5302a3;\n",
              "  color: #f1f1f1;\n",
              "}\n",
              "#T_88b24_row7_col1 {\n",
              "  background-color: #48039f;\n",
              "  color: #f1f1f1;\n",
              "}\n",
              "#T_88b24_row8_col1 {\n",
              "  background-color: #100788;\n",
              "  color: #f1f1f1;\n",
              "}\n",
              "#T_88b24_row9_col1 {\n",
              "  background-color: #0d0887;\n",
              "  color: #f1f1f1;\n",
              "}\n",
              "</style>\n",
              "<table id=\"T_88b24\" class=\"dataframe\">\n",
              "  <thead>\n",
              "    <tr>\n",
              "      <th class=\"blank level0\" >&nbsp;</th>\n",
              "      <th id=\"T_88b24_level0_col0\" class=\"col_heading level0 col0\" >word</th>\n",
              "      <th id=\"T_88b24_level0_col1\" class=\"col_heading level0 col1\" >count</th>\n",
              "    </tr>\n",
              "  </thead>\n",
              "  <tbody>\n",
              "    <tr>\n",
              "      <th id=\"T_88b24_level0_row0\" class=\"row_heading level0 row0\" >79</th>\n",
              "      <td id=\"T_88b24_row0_col0\" class=\"data row0 col0\" >find</td>\n",
              "      <td id=\"T_88b24_row0_col1\" class=\"data row0 col1\" >4426</td>\n",
              "    </tr>\n",
              "    <tr>\n",
              "      <th id=\"T_88b24_level0_row1\" class=\"row_heading level0 row1\" >236</th>\n",
              "      <td id=\"T_88b24_row1_col0\" class=\"data row1 col0\" >one</td>\n",
              "      <td id=\"T_88b24_row1_col1\" class=\"data row1 col1\" >3858</td>\n",
              "    </tr>\n",
              "    <tr>\n",
              "      <th id=\"T_88b24_level0_row2\" class=\"row_heading level0 row2\" >152</th>\n",
              "      <td id=\"T_88b24_row2_col0\" class=\"data row2 col0\" >take</td>\n",
              "      <td id=\"T_88b24_row2_col1\" class=\"data row2 col1\" >3659</td>\n",
              "    </tr>\n",
              "    <tr>\n",
              "      <th id=\"T_88b24_level0_row3\" class=\"row_heading level0 row3\" >234</th>\n",
              "      <td id=\"T_88b24_row3_col0\" class=\"data row3 col0\" >kill</td>\n",
              "      <td id=\"T_88b24_row3_col1\" class=\"data row3 col1\" >3380</td>\n",
              "    </tr>\n",
              "    <tr>\n",
              "      <th id=\"T_88b24_level0_row4\" class=\"row_heading level0 row4\" >87</th>\n",
              "      <td id=\"T_88b24_row4_col0\" class=\"data row4 col0\" >go</td>\n",
              "      <td id=\"T_88b24_row4_col1\" class=\"data row4 col1\" >2967</td>\n",
              "    </tr>\n",
              "    <tr>\n",
              "      <th id=\"T_88b24_level0_row5\" class=\"row_heading level0 row5\" >1122</th>\n",
              "      <td id=\"T_88b24_row5_col0\" class=\"data row5 col0\" >time</td>\n",
              "      <td id=\"T_88b24_row5_col1\" class=\"data row5 col1\" >2563</td>\n",
              "    </tr>\n",
              "    <tr>\n",
              "      <th id=\"T_88b24_level0_row6\" class=\"row_heading level0 row6\" >137</th>\n",
              "      <td id=\"T_88b24_row6_col0\" class=\"data row6 col0\" >make</td>\n",
              "      <td id=\"T_88b24_row6_col1\" class=\"data row6 col1\" >2537</td>\n",
              "    </tr>\n",
              "    <tr>\n",
              "      <th id=\"T_88b24_level0_row7\" class=\"row_heading level0 row7\" >120</th>\n",
              "      <td id=\"T_88b24_row7_col0\" class=\"data row7 col0\" >tell</td>\n",
              "      <td id=\"T_88b24_row7_col1\" class=\"data row7 col1\" >2476</td>\n",
              "    </tr>\n",
              "    <tr>\n",
              "      <th id=\"T_88b24_level0_row8\" class=\"row_heading level0 row8\" >37</th>\n",
              "      <td id=\"T_88b24_row8_col0\" class=\"data row8 col0\" >two</td>\n",
              "      <td id=\"T_88b24_row8_col1\" class=\"data row8 col1\" >2235</td>\n",
              "    </tr>\n",
              "    <tr>\n",
              "      <th id=\"T_88b24_level0_row9\" class=\"row_heading level0 row9\" >411</th>\n",
              "      <td id=\"T_88b24_row9_col0\" class=\"data row9 col0\" >life</td>\n",
              "      <td id=\"T_88b24_row9_col1\" class=\"data row9 col1\" >2224</td>\n",
              "    </tr>\n",
              "  </tbody>\n",
              "</table>\n"
            ]
          },
          "metadata": {},
          "execution_count": 91
        }
      ],
      "source": [
        "freq_df.sort_values('count',ascending=False).head(10).style.background_gradient(cmap = 'plasma')"
      ]
    },
    {
      "cell_type": "markdown",
      "id": "acute-membrane",
      "metadata": {
        "id": "acute-membrane"
      },
      "source": [
        "##  Encoding"
      ]
    },
    {
      "cell_type": "code",
      "source": [
        "# Create mapping dictionary\n",
        "books_list = list(books['genre'].unique())\n",
        "encode = [i for i in range(len(books_list))]\n",
        "mapper = dict(zip(books_list, encode))\n",
        "\n",
        "# Encode the genre column\n",
        "books['genre_encoded'] = books['genre'].map(mapper)\n"
      ],
      "metadata": {
        "id": "L5fb-gLJdSiL"
      },
      "id": "L5fb-gLJdSiL",
      "execution_count": null,
      "outputs": []
    },
    {
      "cell_type": "code",
      "execution_count": null,
      "id": "abroad-liberia",
      "metadata": {
        "colab": {
          "base_uri": "https://localhost:8080/"
        },
        "id": "abroad-liberia",
        "outputId": "d83a1403-2b0e-45f6-8613-6ab9f2231b27"
      },
      "outputs": [
        {
          "output_type": "execute_result",
          "data": {
            "text/plain": [
              "array([0, 1, 2, 3, 4, 5])"
            ]
          },
          "metadata": {},
          "execution_count": 50
        }
      ],
      "source": [
        "books['genre'] = books['genre'].map(mapper)\n",
        "books['genre'].unique()"
      ]
    },
    {
      "cell_type": "markdown",
      "id": "mediterranean-owner",
      "metadata": {
        "id": "mediterranean-owner"
      },
      "source": [
        "## Model Building"
      ]
    },
    {
      "cell_type": "code",
      "execution_count": null,
      "id": "municipal-farmer",
      "metadata": {
        "scrolled": true,
        "id": "municipal-farmer",
        "outputId": "c1440b7c-310f-499a-e654-a3ce64206f34"
      },
      "outputs": [
        {
          "data": {
            "text/plain": [
              "<3000x1000 sparse matrix of type '<class 'numpy.int64'>'\n",
              "\twith 245387 stored elements in Compressed Sparse Row format>"
            ]
          },
          "execution_count": 17,
          "metadata": {},
          "output_type": "execute_result"
        }
      ],
      "source": [
        "# ## count vectorizer\n",
        "\n",
        "# count_vec = CountVectorizer(max_df=0.90,min_df=2,\n",
        "#                            max_features=1000,stop_words='english')\n",
        "\n",
        "# bagofword_vec = count_vec.fit_transform(books['summary'])\n",
        "# bagofword_vec"
      ]
    },
    {
      "cell_type": "code",
      "source": [
        "from sklearn.feature_extraction.text import CountVectorizer\n",
        "\n",
        "count_vec = CountVectorizer(\n",
        "    max_df=0.90,       # Ignore words that appear in >90% of documents (too common)\n",
        "    min_df=2,          # Ignore words that appear in <2 documents (too rare)\n",
        "    max_features=1000, # Keep only the top 1000 most frequent words\n",
        "    stop_words='english'  # Remove common English stopwords\n",
        ")\n",
        "\n",
        "bagofword_vec = count_vec.fit_transform(books['summary'])\n"
      ],
      "metadata": {
        "id": "Hpc2-sHvd9Wo"
      },
      "id": "Hpc2-sHvd9Wo",
      "execution_count": null,
      "outputs": []
    },
    {
      "cell_type": "code",
      "source": [
        "bagofword_vec.shape\n"
      ],
      "metadata": {
        "colab": {
          "base_uri": "https://localhost:8080/"
        },
        "id": "CJqn43HCd7Xg",
        "outputId": "cf3d1a7c-9c2c-47a8-e4b9-20f672d4491f"
      },
      "id": "CJqn43HCd7Xg",
      "execution_count": null,
      "outputs": [
        {
          "output_type": "execute_result",
          "data": {
            "text/plain": [
              "(3000, 1000)"
            ]
          },
          "metadata": {},
          "execution_count": 52
        }
      ]
    },
    {
      "cell_type": "code",
      "execution_count": null,
      "id": "federal-glance",
      "metadata": {
        "colab": {
          "base_uri": "https://localhost:8080/"
        },
        "id": "federal-glance",
        "outputId": "9066a3f6-3140-4296-a5b6-d998659cef80"
      },
      "outputs": [
        {
          "output_type": "execute_result",
          "data": {
            "text/plain": [
              "((2400, 1000), (600, 1000))"
            ]
          },
          "metadata": {},
          "execution_count": 53
        }
      ],
      "source": [
        "test = books['genre']\n",
        "X_train, X_test, y_train, y_test = train_test_split(bagofword_vec,test,\n",
        "                                                    test_size=0.2)\n",
        "X_train.shape,X_test.shape"
      ]
    },
    {
      "cell_type": "code",
      "execution_count": null,
      "id": "handled-rolling",
      "metadata": {
        "colab": {
          "base_uri": "https://localhost:8080/"
        },
        "id": "handled-rolling",
        "outputId": "5866422a-ee12-46ff-8e9d-10a8913494b7"
      },
      "outputs": [
        {
          "output_type": "stream",
          "name": "stdout",
          "text": [
            "0.5683333333333334\n"
          ]
        }
      ],
      "source": [
        "svc = SVC()\n",
        "svc.fit(X_train,y_train)\n",
        "svccpred = svc.predict(X_test)\n",
        "print(metrics.accuracy_score(y_test,svccpred))"
      ]
    },
    {
      "cell_type": "code",
      "execution_count": null,
      "id": "trained-peeing",
      "metadata": {
        "colab": {
          "base_uri": "https://localhost:8080/"
        },
        "id": "trained-peeing",
        "outputId": "7e7ea920-5d16-4eb3-ea06-a26325df1d73"
      },
      "outputs": [
        {
          "output_type": "stream",
          "name": "stdout",
          "text": [
            "0.68\n"
          ]
        }
      ],
      "source": [
        "mb = MultinomialNB()\n",
        "mb.fit(X_train,y_train)\n",
        "mbpred = mb.predict(X_test)\n",
        "print(metrics.accuracy_score(y_test,mbpred))"
      ]
    },
    {
      "cell_type": "code",
      "execution_count": null,
      "id": "medium-peeing",
      "metadata": {
        "colab": {
          "base_uri": "https://localhost:8080/"
        },
        "id": "medium-peeing",
        "outputId": "d03c564f-6179-40da-b25e-8f3a5e564b11"
      },
      "outputs": [
        {
          "output_type": "stream",
          "name": "stdout",
          "text": [
            "0.6116666666666667\n"
          ]
        }
      ],
      "source": [
        "rf = RandomForestClassifier()\n",
        "rf.fit(X_train,y_train)\n",
        "print(metrics.accuracy_score(y_test,rf.predict(X_test)))"
      ]
    },
    {
      "cell_type": "markdown",
      "id": "theoretical-indicator",
      "metadata": {
        "id": "theoretical-indicator"
      },
      "source": [
        "## Part 2 Model Building\n",
        "\n",
        " + Changing from Countvectorizer to TFDIF vectorizer"
      ]
    },
    {
      "cell_type": "code",
      "execution_count": null,
      "id": "comparative-shuttle",
      "metadata": {
        "colab": {
          "base_uri": "https://localhost:8080/"
        },
        "id": "comparative-shuttle",
        "outputId": "b4551dd4-1b1c-413f-ca69-dad65290ac40"
      },
      "outputs": [
        {
          "output_type": "execute_result",
          "data": {
            "text/plain": [
              "((2400,), (600,))"
            ]
          },
          "metadata": {},
          "execution_count": 57
        }
      ],
      "source": [
        "#Labeling each 'genre' with an unique number\n",
        "\n",
        "from sklearn.preprocessing import LabelEncoder\n",
        "le = LabelEncoder()\n",
        "y=le.fit_transform(books['genre'])\n",
        "\n",
        "X_train,X_test,y_train,y_test = train_test_split(books['summary']\n",
        "                                                ,y,test_size=0.2,\n",
        "                                                random_state=557)\n",
        "\n",
        "X_train.shape,X_test.shape"
      ]
    },
    {
      "cell_type": "code",
      "execution_count": null,
      "id": "connected-coach",
      "metadata": {
        "id": "connected-coach"
      },
      "outputs": [],
      "source": [
        "#Performing tf-idf\n",
        "\n",
        "tfidf_vectorizer = TfidfVectorizer(max_df=0.8, max_features=10000)\n",
        "xtrain_tfidf = tfidf_vectorizer.fit_transform(X_train.values.astype('U'))\n",
        "xtest_tfidf = tfidf_vectorizer.transform(X_test.values.astype('U'))"
      ]
    },
    {
      "cell_type": "code",
      "execution_count": null,
      "id": "swedish-generator",
      "metadata": {
        "colab": {
          "base_uri": "https://localhost:8080/"
        },
        "id": "swedish-generator",
        "outputId": "0e7c27f0-cf5b-47c1-da93-84e34b6ced14"
      },
      "outputs": [
        {
          "output_type": "stream",
          "name": "stdout",
          "text": [
            "0.775\n"
          ]
        }
      ],
      "source": [
        "svc = SVC()\n",
        "svc.fit(xtrain_tfidf,y_train)\n",
        "svccpred = svc.predict(xtest_tfidf)\n",
        "print(metrics.accuracy_score(y_test,svccpred))"
      ]
    },
    {
      "cell_type": "code",
      "execution_count": null,
      "id": "intended-framing",
      "metadata": {
        "colab": {
          "base_uri": "https://localhost:8080/"
        },
        "id": "intended-framing",
        "outputId": "77adcf7c-6ffd-4fd2-fc63-95dd6c28d8d6"
      },
      "outputs": [
        {
          "output_type": "stream",
          "name": "stdout",
          "text": [
            "0.7766666666666666\n"
          ]
        }
      ],
      "source": [
        "mb = MultinomialNB()\n",
        "mb.fit(xtrain_tfidf,y_train)\n",
        "mbpred = mb.predict(xtest_tfidf)\n",
        "print(metrics.accuracy_score(y_test,mbpred))"
      ]
    },
    {
      "cell_type": "markdown",
      "id": "ultimate-worcester",
      "metadata": {
        "id": "ultimate-worcester"
      },
      "source": [
        "## Testing the Model"
      ]
    },
    {
      "cell_type": "code",
      "execution_count": null,
      "id": "shared-naples",
      "metadata": {
        "colab": {
          "base_uri": "https://localhost:8080/",
          "height": 458
        },
        "id": "shared-naples",
        "outputId": "b1f32d9d-784d-4cd2-f603-7c38ae4e1071"
      },
      "outputs": [
        {
          "output_type": "execute_result",
          "data": {
            "text/plain": [
              "0       [0]\n",
              "1       [0]\n",
              "2       [0]\n",
              "3       [0]\n",
              "4       [0]\n",
              "       ... \n",
              "2995    [1]\n",
              "2996    [5]\n",
              "2997    [5]\n",
              "2998    [5]\n",
              "2999    [5]\n",
              "Name: summary, Length: 3000, dtype: object"
            ],
            "text/html": [
              "<div>\n",
              "<style scoped>\n",
              "    .dataframe tbody tr th:only-of-type {\n",
              "        vertical-align: middle;\n",
              "    }\n",
              "\n",
              "    .dataframe tbody tr th {\n",
              "        vertical-align: top;\n",
              "    }\n",
              "\n",
              "    .dataframe thead th {\n",
              "        text-align: right;\n",
              "    }\n",
              "</style>\n",
              "<table border=\"1\" class=\"dataframe\">\n",
              "  <thead>\n",
              "    <tr style=\"text-align: right;\">\n",
              "      <th></th>\n",
              "      <th>summary</th>\n",
              "    </tr>\n",
              "  </thead>\n",
              "  <tbody>\n",
              "    <tr>\n",
              "      <th>0</th>\n",
              "      <td>[0]</td>\n",
              "    </tr>\n",
              "    <tr>\n",
              "      <th>1</th>\n",
              "      <td>[0]</td>\n",
              "    </tr>\n",
              "    <tr>\n",
              "      <th>2</th>\n",
              "      <td>[0]</td>\n",
              "    </tr>\n",
              "    <tr>\n",
              "      <th>3</th>\n",
              "      <td>[0]</td>\n",
              "    </tr>\n",
              "    <tr>\n",
              "      <th>4</th>\n",
              "      <td>[0]</td>\n",
              "    </tr>\n",
              "    <tr>\n",
              "      <th>...</th>\n",
              "      <td>...</td>\n",
              "    </tr>\n",
              "    <tr>\n",
              "      <th>2995</th>\n",
              "      <td>[1]</td>\n",
              "    </tr>\n",
              "    <tr>\n",
              "      <th>2996</th>\n",
              "      <td>[5]</td>\n",
              "    </tr>\n",
              "    <tr>\n",
              "      <th>2997</th>\n",
              "      <td>[5]</td>\n",
              "    </tr>\n",
              "    <tr>\n",
              "      <th>2998</th>\n",
              "      <td>[5]</td>\n",
              "    </tr>\n",
              "    <tr>\n",
              "      <th>2999</th>\n",
              "      <td>[5]</td>\n",
              "    </tr>\n",
              "  </tbody>\n",
              "</table>\n",
              "<p>3000 rows × 1 columns</p>\n",
              "</div><br><label><b>dtype:</b> object</label>"
            ]
          },
          "metadata": {},
          "execution_count": 75
        }
      ],
      "source": [
        "def test(text,model):\n",
        "\n",
        "    text = cleantext(text)\n",
        "    text = removestopwords(text)\n",
        "    text = lematizing(text)\n",
        "    text = stemming(text)\n",
        "\n",
        "    text_vector = tfidf_vectorizer.transform([text])\n",
        "    predicted = model.predict(text_vector)\n",
        "    return predicted\n",
        "\n",
        "\n",
        "\n",
        "ans = books['summary'].apply(lambda text:test(text,mb))\n",
        "\n",
        "# printing the\n",
        "# print(list(mapper.keys())[list(mapper.values()).index(ans)])\n",
        "\n",
        "ans"
      ]
    },
    {
      "cell_type": "code",
      "execution_count": null,
      "id": "challenging-texture",
      "metadata": {
        "id": "challenging-texture"
      },
      "outputs": [],
      "source": [
        "predicted_genres = []\n",
        "for i in range(len(ans)):\n",
        "\n",
        "    index_val = ans[i][0]\n",
        "    predicted_genres.append(list(mapper.keys())[list(mapper.values()).index(index_val)])\n"
      ]
    },
    {
      "cell_type": "code",
      "execution_count": null,
      "id": "outstanding-current",
      "metadata": {
        "colab": {
          "base_uri": "https://localhost:8080/"
        },
        "id": "outstanding-current",
        "outputId": "d04e5f73-cafb-41af-b163-d2606356ae55"
      },
      "outputs": [
        {
          "output_type": "execute_result",
          "data": {
            "text/plain": [
              "{'Fantasy': 0,\n",
              " 'Science Fiction': 1,\n",
              " 'Crime Fiction': 2,\n",
              " 'Historical novel': 3,\n",
              " 'Horror': 4,\n",
              " 'Thriller': 5}"
            ]
          },
          "metadata": {},
          "execution_count": 77
        }
      ],
      "source": [
        "mapper"
      ]
    },
    {
      "cell_type": "code",
      "execution_count": null,
      "id": "stable-publisher",
      "metadata": {
        "scrolled": true,
        "colab": {
          "base_uri": "https://localhost:8080/"
        },
        "id": "stable-publisher",
        "outputId": "f1a9e62d-9be2-43f2-831c-58eeaae4bc24"
      },
      "outputs": [
        {
          "output_type": "execute_result",
          "data": {
            "text/plain": [
              "{0: 'Fantasy',\n",
              " 1: 'Science Fiction',\n",
              " 2: 'Crime Fiction',\n",
              " 3: 'Historical novel',\n",
              " 4: 'Horror',\n",
              " 5: 'Thriller'}"
            ]
          },
          "metadata": {},
          "execution_count": 78
        }
      ],
      "source": [
        "## mapping the training genre as well\n",
        "\n",
        "newmap = dict([(value,key) for key,value in mapper.items()])\n",
        "newmap"
      ]
    },
    {
      "cell_type": "code",
      "execution_count": null,
      "id": "quick-illinois",
      "metadata": {
        "colab": {
          "base_uri": "https://localhost:8080/"
        },
        "id": "quick-illinois",
        "outputId": "c05e0dd2-b0c1-4ee2-ccdb-55710e595e2b"
      },
      "outputs": [
        {
          "output_type": "stream",
          "name": "stdout",
          "text": [
            "{0: 'Fantasy', 1: 'Science Fiction', 2: 'Crime Fiction', 3: 'Historical novel', 4: 'Horror', 5: 'Thriller'}\n"
          ]
        }
      ],
      "source": [
        "print(newmap)"
      ]
    },
    {
      "cell_type": "code",
      "execution_count": null,
      "id": "local-protection",
      "metadata": {
        "colab": {
          "base_uri": "https://localhost:8080/",
          "height": 206
        },
        "id": "local-protection",
        "outputId": "394c9c1d-4b9e-46b7-f2d5-9fe953f341b2"
      },
      "outputs": [
        {
          "output_type": "execute_result",
          "data": {
            "text/plain": [
              "    book_id                  book_name  genre  \\\n",
              "0   3248537          Drowned Wednesday      0   \n",
              "1  27796919              The Lost Hero      0   \n",
              "2   3910776  The Eyes of the Overworld      0   \n",
              "3   5969644            Magic's Promise      0   \n",
              "4   3173445             Taran Wanderer      0   \n",
              "\n",
              "                                             summary  genre_encoded  \\\n",
              "0  drown wednesday first trust among morrow day a...              0   \n",
              "1  book open jason awaken school bu unabl rememb ...              0   \n",
              "2  cugel easili persuad merchant fianosth attempt...              0   \n",
              "3  book open herald mage vanyel return countri va...              0   \n",
              "4  taran gurgi return caer dallben follow event t...              0   \n",
              "\n",
              "  Actual Genre Predicted_genre  \n",
              "0      Fantasy         Fantasy  \n",
              "1      Fantasy         Fantasy  \n",
              "2      Fantasy         Fantasy  \n",
              "3      Fantasy         Fantasy  \n",
              "4      Fantasy         Fantasy  "
            ],
            "text/html": [
              "\n",
              "  <div id=\"df-fe0fe0cf-c5f9-4aa2-b466-983367989228\" class=\"colab-df-container\">\n",
              "    <div>\n",
              "<style scoped>\n",
              "    .dataframe tbody tr th:only-of-type {\n",
              "        vertical-align: middle;\n",
              "    }\n",
              "\n",
              "    .dataframe tbody tr th {\n",
              "        vertical-align: top;\n",
              "    }\n",
              "\n",
              "    .dataframe thead th {\n",
              "        text-align: right;\n",
              "    }\n",
              "</style>\n",
              "<table border=\"1\" class=\"dataframe\">\n",
              "  <thead>\n",
              "    <tr style=\"text-align: right;\">\n",
              "      <th></th>\n",
              "      <th>book_id</th>\n",
              "      <th>book_name</th>\n",
              "      <th>genre</th>\n",
              "      <th>summary</th>\n",
              "      <th>genre_encoded</th>\n",
              "      <th>Actual Genre</th>\n",
              "      <th>Predicted_genre</th>\n",
              "    </tr>\n",
              "  </thead>\n",
              "  <tbody>\n",
              "    <tr>\n",
              "      <th>0</th>\n",
              "      <td>3248537</td>\n",
              "      <td>Drowned Wednesday</td>\n",
              "      <td>0</td>\n",
              "      <td>drown wednesday first trust among morrow day a...</td>\n",
              "      <td>0</td>\n",
              "      <td>Fantasy</td>\n",
              "      <td>Fantasy</td>\n",
              "    </tr>\n",
              "    <tr>\n",
              "      <th>1</th>\n",
              "      <td>27796919</td>\n",
              "      <td>The Lost Hero</td>\n",
              "      <td>0</td>\n",
              "      <td>book open jason awaken school bu unabl rememb ...</td>\n",
              "      <td>0</td>\n",
              "      <td>Fantasy</td>\n",
              "      <td>Fantasy</td>\n",
              "    </tr>\n",
              "    <tr>\n",
              "      <th>2</th>\n",
              "      <td>3910776</td>\n",
              "      <td>The Eyes of the Overworld</td>\n",
              "      <td>0</td>\n",
              "      <td>cugel easili persuad merchant fianosth attempt...</td>\n",
              "      <td>0</td>\n",
              "      <td>Fantasy</td>\n",
              "      <td>Fantasy</td>\n",
              "    </tr>\n",
              "    <tr>\n",
              "      <th>3</th>\n",
              "      <td>5969644</td>\n",
              "      <td>Magic's Promise</td>\n",
              "      <td>0</td>\n",
              "      <td>book open herald mage vanyel return countri va...</td>\n",
              "      <td>0</td>\n",
              "      <td>Fantasy</td>\n",
              "      <td>Fantasy</td>\n",
              "    </tr>\n",
              "    <tr>\n",
              "      <th>4</th>\n",
              "      <td>3173445</td>\n",
              "      <td>Taran Wanderer</td>\n",
              "      <td>0</td>\n",
              "      <td>taran gurgi return caer dallben follow event t...</td>\n",
              "      <td>0</td>\n",
              "      <td>Fantasy</td>\n",
              "      <td>Fantasy</td>\n",
              "    </tr>\n",
              "  </tbody>\n",
              "</table>\n",
              "</div>\n",
              "    <div class=\"colab-df-buttons\">\n",
              "\n",
              "  <div class=\"colab-df-container\">\n",
              "    <button class=\"colab-df-convert\" onclick=\"convertToInteractive('df-fe0fe0cf-c5f9-4aa2-b466-983367989228')\"\n",
              "            title=\"Convert this dataframe to an interactive table.\"\n",
              "            style=\"display:none;\">\n",
              "\n",
              "  <svg xmlns=\"http://www.w3.org/2000/svg\" height=\"24px\" viewBox=\"0 -960 960 960\">\n",
              "    <path d=\"M120-120v-720h720v720H120Zm60-500h600v-160H180v160Zm220 220h160v-160H400v160Zm0 220h160v-160H400v160ZM180-400h160v-160H180v160Zm440 0h160v-160H620v160ZM180-180h160v-160H180v160Zm440 0h160v-160H620v160Z\"/>\n",
              "  </svg>\n",
              "    </button>\n",
              "\n",
              "  <style>\n",
              "    .colab-df-container {\n",
              "      display:flex;\n",
              "      gap: 12px;\n",
              "    }\n",
              "\n",
              "    .colab-df-convert {\n",
              "      background-color: #E8F0FE;\n",
              "      border: none;\n",
              "      border-radius: 50%;\n",
              "      cursor: pointer;\n",
              "      display: none;\n",
              "      fill: #1967D2;\n",
              "      height: 32px;\n",
              "      padding: 0 0 0 0;\n",
              "      width: 32px;\n",
              "    }\n",
              "\n",
              "    .colab-df-convert:hover {\n",
              "      background-color: #E2EBFA;\n",
              "      box-shadow: 0px 1px 2px rgba(60, 64, 67, 0.3), 0px 1px 3px 1px rgba(60, 64, 67, 0.15);\n",
              "      fill: #174EA6;\n",
              "    }\n",
              "\n",
              "    .colab-df-buttons div {\n",
              "      margin-bottom: 4px;\n",
              "    }\n",
              "\n",
              "    [theme=dark] .colab-df-convert {\n",
              "      background-color: #3B4455;\n",
              "      fill: #D2E3FC;\n",
              "    }\n",
              "\n",
              "    [theme=dark] .colab-df-convert:hover {\n",
              "      background-color: #434B5C;\n",
              "      box-shadow: 0px 1px 3px 1px rgba(0, 0, 0, 0.15);\n",
              "      filter: drop-shadow(0px 1px 2px rgba(0, 0, 0, 0.3));\n",
              "      fill: #FFFFFF;\n",
              "    }\n",
              "  </style>\n",
              "\n",
              "    <script>\n",
              "      const buttonEl =\n",
              "        document.querySelector('#df-fe0fe0cf-c5f9-4aa2-b466-983367989228 button.colab-df-convert');\n",
              "      buttonEl.style.display =\n",
              "        google.colab.kernel.accessAllowed ? 'block' : 'none';\n",
              "\n",
              "      async function convertToInteractive(key) {\n",
              "        const element = document.querySelector('#df-fe0fe0cf-c5f9-4aa2-b466-983367989228');\n",
              "        const dataTable =\n",
              "          await google.colab.kernel.invokeFunction('convertToInteractive',\n",
              "                                                    [key], {});\n",
              "        if (!dataTable) return;\n",
              "\n",
              "        const docLinkHtml = 'Like what you see? Visit the ' +\n",
              "          '<a target=\"_blank\" href=https://colab.research.google.com/notebooks/data_table.ipynb>data table notebook</a>'\n",
              "          + ' to learn more about interactive tables.';\n",
              "        element.innerHTML = '';\n",
              "        dataTable['output_type'] = 'display_data';\n",
              "        await google.colab.output.renderOutput(dataTable, element);\n",
              "        const docLink = document.createElement('div');\n",
              "        docLink.innerHTML = docLinkHtml;\n",
              "        element.appendChild(docLink);\n",
              "      }\n",
              "    </script>\n",
              "  </div>\n",
              "\n",
              "\n",
              "    <div id=\"df-bb892a93-da3b-4fc1-af8f-97f8146aa856\">\n",
              "      <button class=\"colab-df-quickchart\" onclick=\"quickchart('df-bb892a93-da3b-4fc1-af8f-97f8146aa856')\"\n",
              "                title=\"Suggest charts\"\n",
              "                style=\"display:none;\">\n",
              "\n",
              "<svg xmlns=\"http://www.w3.org/2000/svg\" height=\"24px\"viewBox=\"0 0 24 24\"\n",
              "     width=\"24px\">\n",
              "    <g>\n",
              "        <path d=\"M19 3H5c-1.1 0-2 .9-2 2v14c0 1.1.9 2 2 2h14c1.1 0 2-.9 2-2V5c0-1.1-.9-2-2-2zM9 17H7v-7h2v7zm4 0h-2V7h2v10zm4 0h-2v-4h2v4z\"/>\n",
              "    </g>\n",
              "</svg>\n",
              "      </button>\n",
              "\n",
              "<style>\n",
              "  .colab-df-quickchart {\n",
              "      --bg-color: #E8F0FE;\n",
              "      --fill-color: #1967D2;\n",
              "      --hover-bg-color: #E2EBFA;\n",
              "      --hover-fill-color: #174EA6;\n",
              "      --disabled-fill-color: #AAA;\n",
              "      --disabled-bg-color: #DDD;\n",
              "  }\n",
              "\n",
              "  [theme=dark] .colab-df-quickchart {\n",
              "      --bg-color: #3B4455;\n",
              "      --fill-color: #D2E3FC;\n",
              "      --hover-bg-color: #434B5C;\n",
              "      --hover-fill-color: #FFFFFF;\n",
              "      --disabled-bg-color: #3B4455;\n",
              "      --disabled-fill-color: #666;\n",
              "  }\n",
              "\n",
              "  .colab-df-quickchart {\n",
              "    background-color: var(--bg-color);\n",
              "    border: none;\n",
              "    border-radius: 50%;\n",
              "    cursor: pointer;\n",
              "    display: none;\n",
              "    fill: var(--fill-color);\n",
              "    height: 32px;\n",
              "    padding: 0;\n",
              "    width: 32px;\n",
              "  }\n",
              "\n",
              "  .colab-df-quickchart:hover {\n",
              "    background-color: var(--hover-bg-color);\n",
              "    box-shadow: 0 1px 2px rgba(60, 64, 67, 0.3), 0 1px 3px 1px rgba(60, 64, 67, 0.15);\n",
              "    fill: var(--button-hover-fill-color);\n",
              "  }\n",
              "\n",
              "  .colab-df-quickchart-complete:disabled,\n",
              "  .colab-df-quickchart-complete:disabled:hover {\n",
              "    background-color: var(--disabled-bg-color);\n",
              "    fill: var(--disabled-fill-color);\n",
              "    box-shadow: none;\n",
              "  }\n",
              "\n",
              "  .colab-df-spinner {\n",
              "    border: 2px solid var(--fill-color);\n",
              "    border-color: transparent;\n",
              "    border-bottom-color: var(--fill-color);\n",
              "    animation:\n",
              "      spin 1s steps(1) infinite;\n",
              "  }\n",
              "\n",
              "  @keyframes spin {\n",
              "    0% {\n",
              "      border-color: transparent;\n",
              "      border-bottom-color: var(--fill-color);\n",
              "      border-left-color: var(--fill-color);\n",
              "    }\n",
              "    20% {\n",
              "      border-color: transparent;\n",
              "      border-left-color: var(--fill-color);\n",
              "      border-top-color: var(--fill-color);\n",
              "    }\n",
              "    30% {\n",
              "      border-color: transparent;\n",
              "      border-left-color: var(--fill-color);\n",
              "      border-top-color: var(--fill-color);\n",
              "      border-right-color: var(--fill-color);\n",
              "    }\n",
              "    40% {\n",
              "      border-color: transparent;\n",
              "      border-right-color: var(--fill-color);\n",
              "      border-top-color: var(--fill-color);\n",
              "    }\n",
              "    60% {\n",
              "      border-color: transparent;\n",
              "      border-right-color: var(--fill-color);\n",
              "    }\n",
              "    80% {\n",
              "      border-color: transparent;\n",
              "      border-right-color: var(--fill-color);\n",
              "      border-bottom-color: var(--fill-color);\n",
              "    }\n",
              "    90% {\n",
              "      border-color: transparent;\n",
              "      border-bottom-color: var(--fill-color);\n",
              "    }\n",
              "  }\n",
              "</style>\n",
              "\n",
              "      <script>\n",
              "        async function quickchart(key) {\n",
              "          const quickchartButtonEl =\n",
              "            document.querySelector('#' + key + ' button');\n",
              "          quickchartButtonEl.disabled = true;  // To prevent multiple clicks.\n",
              "          quickchartButtonEl.classList.add('colab-df-spinner');\n",
              "          try {\n",
              "            const charts = await google.colab.kernel.invokeFunction(\n",
              "                'suggestCharts', [key], {});\n",
              "          } catch (error) {\n",
              "            console.error('Error during call to suggestCharts:', error);\n",
              "          }\n",
              "          quickchartButtonEl.classList.remove('colab-df-spinner');\n",
              "          quickchartButtonEl.classList.add('colab-df-quickchart-complete');\n",
              "        }\n",
              "        (() => {\n",
              "          let quickchartButtonEl =\n",
              "            document.querySelector('#df-bb892a93-da3b-4fc1-af8f-97f8146aa856 button');\n",
              "          quickchartButtonEl.style.display =\n",
              "            google.colab.kernel.accessAllowed ? 'block' : 'none';\n",
              "        })();\n",
              "      </script>\n",
              "    </div>\n",
              "\n",
              "    </div>\n",
              "  </div>\n"
            ],
            "application/vnd.google.colaboratory.intrinsic+json": {
              "type": "dataframe",
              "variable_name": "books",
              "summary": "{\n  \"name\": \"books\",\n  \"rows\": 3000,\n  \"fields\": [\n    {\n      \"column\": \"book_id\",\n      \"properties\": {\n        \"dtype\": \"number\",\n        \"std\": 8375374,\n        \"min\": 843,\n        \"max\": 37054020,\n        \"num_unique_values\": 3000,\n        \"samples\": [\n          2795327,\n          9350572,\n          9366759\n        ],\n        \"semantic_type\": \"\",\n        \"description\": \"\"\n      }\n    },\n    {\n      \"column\": \"book_name\",\n      \"properties\": {\n        \"dtype\": \"string\",\n        \"num_unique_values\": 2970,\n        \"samples\": [\n          \"Some of Your Blood\",\n          \"To Fear A Painted Devil\",\n          \"The Wolf's Hour\"\n        ],\n        \"semantic_type\": \"\",\n        \"description\": \"\"\n      }\n    },\n    {\n      \"column\": \"genre\",\n      \"properties\": {\n        \"dtype\": \"number\",\n        \"std\": 1,\n        \"min\": 0,\n        \"max\": 5,\n        \"num_unique_values\": 6,\n        \"samples\": [\n          0,\n          1,\n          5\n        ],\n        \"semantic_type\": \"\",\n        \"description\": \"\"\n      }\n    },\n    {\n      \"column\": \"summary\",\n      \"properties\": {\n        \"dtype\": \"string\",\n        \"num_unique_values\": 2995,\n        \"samples\": [\n          \"promi land inc real estat develop compani one charact involv spenser also metaphor refer cape cod promi land spenser hire harvey shepard find miss wife pam soon locat along way begin suspect harvey shepard beaten threaten reveal spenser suspect danger loan shark get fire harvey spenser contact wife unwittingli becom entangl murder need spenser help spenser manag get harvey wife clear land danger crimin behind bar process\",\n          \"stori concern clayton blaisdel jr know blaze short thu titl mental challeng small time con artist kidnap wealthi gentleman babi son hope fulfil dream georg thoma rackley blaze decea best friend partner crime chapter altern blaze past cover childhood includ come brain damag entri life crime despit otherwi sweet demeanor current caper imago still constantli advi friend georg despit help imaginari georg advic blaze world begin crumbl kidnap ventur especi bond babi joey end blaze run inevit destini back horror old orphanag hetton hou cop storm rush cave joey nearli kill blaze end kill two policeman kill polic offic buri mile away father live\",\n          \"quest take septimu jenna beetl search nicko snorri bring back past go marcellu pye rememb inform year old memori provid note nicko snorri note say plan travel hou foryx time meet expect come back time jenna take note back palac meantim merrin meredith travel castl hope destroy septimu bump jenna drop note nicko snorri fall puddl get wet jenna go manuscriptorium ask beetl help replac note beetl take restor specialist ephaniah grebe ephaniah half man half rat restor page bind book still miss one piec center map hou foryx merrin meantim take job scribe manuscriptorium meet ghost tertiu fume first chief hermet scribe tertiu make transfer loyalti thing creatur aquir recit word book write tertiu fume assur send septimu peril quest tertiu fume arriv wizard tower along ghost previou extraordinari wizard announc draw quest stone septimu feel dark insid urn stone keep tell thing sabotag draw escap wizard tower tertiu fume put sieg septimu take quest stone hildegard think safecharm hildegard tell marcia tell septimu take safecharm charm stranger septimu regard hildegard stranger marcia disagr contradict blame take quest stone find hildegard actual inhabit tertiu fume thing septimu jenna beetl start journey hou foryx ephaniah grebe promi get morwenna mould witch mother wendron witch show forest way ephaniah promi morwenna anyth exchang show septimu jenna beetl forest way septimu beetl overhear witch talk witch mother ask jenna ullr tag along jenna snorri year past escap coven go camp heap sam heap show forest way eventu reach hou find ephaniah near find last miss piec map possess thing septimu jenna beetl enter hou foryx accid three go insid septimu take insid door girl name talmar ray bell septimu find face face hotep ra first extraordinari wizard meantim jenna beetl find nicko snorri tri escap hou foryx leav marcia sarah arriv outsid hou spit fyre abl return time\"\n        ],\n        \"semantic_type\": \"\",\n        \"description\": \"\"\n      }\n    },\n    {\n      \"column\": \"genre_encoded\",\n      \"properties\": {\n        \"dtype\": \"number\",\n        \"std\": 1,\n        \"min\": 0,\n        \"max\": 5,\n        \"num_unique_values\": 6,\n        \"samples\": [\n          0,\n          1,\n          5\n        ],\n        \"semantic_type\": \"\",\n        \"description\": \"\"\n      }\n    },\n    {\n      \"column\": \"Actual Genre\",\n      \"properties\": {\n        \"dtype\": \"category\",\n        \"num_unique_values\": 6,\n        \"samples\": [\n          \"Fantasy\",\n          \"Science Fiction\",\n          \"Thriller\"\n        ],\n        \"semantic_type\": \"\",\n        \"description\": \"\"\n      }\n    },\n    {\n      \"column\": \"Predicted_genre\",\n      \"properties\": {\n        \"dtype\": \"category\",\n        \"num_unique_values\": 6,\n        \"samples\": [\n          \"Fantasy\",\n          \"Science Fiction\",\n          \"Crime Fiction\"\n        ],\n        \"semantic_type\": \"\",\n        \"description\": \"\"\n      }\n    }\n  ]\n}"
            }
          },
          "metadata": {},
          "execution_count": 80
        }
      ],
      "source": [
        "books['Actual Genre'] = books['genre'].map(newmap)\n",
        "books['Predicted_genre'] = np.array(predicted_genres)\n",
        "books.head()"
      ]
    },
    {
      "cell_type": "code",
      "execution_count": null,
      "id": "sound-milwaukee",
      "metadata": {
        "scrolled": true,
        "colab": {
          "base_uri": "https://localhost:8080/",
          "height": 423
        },
        "id": "sound-milwaukee",
        "outputId": "41de03e9-02b2-4ab0-d1ae-f1c23e85ef97"
      },
      "outputs": [
        {
          "output_type": "execute_result",
          "data": {
            "text/plain": [
              "                      book_name  \\\n",
              "0             Drowned Wednesday   \n",
              "1                 The Lost Hero   \n",
              "2     The Eyes of the Overworld   \n",
              "3               Magic's Promise   \n",
              "4                Taran Wanderer   \n",
              "...                         ...   \n",
              "2995                White Death   \n",
              "2996          Venus with Pistol   \n",
              "2997                 Blackwater   \n",
              "2998   The Rainbow and the Rose   \n",
              "2999                     Chiefs   \n",
              "\n",
              "                                                summary Actual Genre  \\\n",
              "0     drown wednesday first trust among morrow day a...      Fantasy   \n",
              "1     book open jason awaken school bu unabl rememb ...      Fantasy   \n",
              "2     cugel easili persuad merchant fianosth attempt...      Fantasy   \n",
              "3     book open herald mage vanyel return countri va...      Fantasy   \n",
              "4     taran gurgi return caer dallben follow event t...      Fantasy   \n",
              "...                                                 ...          ...   \n",
              "2995  novel numa file kurt austin adventur novel mai...     Thriller   \n",
              "2996  gilbert kemp dealer special antiqu gun london ...     Thriller   \n",
              "2997  know deep davey alway live shadow old brother ...     Thriller   \n",
              "2998  stori concern life johnni pasco retir commerci...     Thriller   \n",
              "2999  first chief henri lee novel open grow town del...     Thriller   \n",
              "\n",
              "      Predicted_genre  \n",
              "0             Fantasy  \n",
              "1             Fantasy  \n",
              "2             Fantasy  \n",
              "3             Fantasy  \n",
              "4             Fantasy  \n",
              "...               ...  \n",
              "2995  Science Fiction  \n",
              "2996         Thriller  \n",
              "2997         Thriller  \n",
              "2998         Thriller  \n",
              "2999         Thriller  \n",
              "\n",
              "[3000 rows x 4 columns]"
            ],
            "text/html": [
              "\n",
              "  <div id=\"df-683d47e1-7d0f-4e57-ad2a-8c14e785d878\" class=\"colab-df-container\">\n",
              "    <div>\n",
              "<style scoped>\n",
              "    .dataframe tbody tr th:only-of-type {\n",
              "        vertical-align: middle;\n",
              "    }\n",
              "\n",
              "    .dataframe tbody tr th {\n",
              "        vertical-align: top;\n",
              "    }\n",
              "\n",
              "    .dataframe thead th {\n",
              "        text-align: right;\n",
              "    }\n",
              "</style>\n",
              "<table border=\"1\" class=\"dataframe\">\n",
              "  <thead>\n",
              "    <tr style=\"text-align: right;\">\n",
              "      <th></th>\n",
              "      <th>book_name</th>\n",
              "      <th>summary</th>\n",
              "      <th>Actual Genre</th>\n",
              "      <th>Predicted_genre</th>\n",
              "    </tr>\n",
              "  </thead>\n",
              "  <tbody>\n",
              "    <tr>\n",
              "      <th>0</th>\n",
              "      <td>Drowned Wednesday</td>\n",
              "      <td>drown wednesday first trust among morrow day a...</td>\n",
              "      <td>Fantasy</td>\n",
              "      <td>Fantasy</td>\n",
              "    </tr>\n",
              "    <tr>\n",
              "      <th>1</th>\n",
              "      <td>The Lost Hero</td>\n",
              "      <td>book open jason awaken school bu unabl rememb ...</td>\n",
              "      <td>Fantasy</td>\n",
              "      <td>Fantasy</td>\n",
              "    </tr>\n",
              "    <tr>\n",
              "      <th>2</th>\n",
              "      <td>The Eyes of the Overworld</td>\n",
              "      <td>cugel easili persuad merchant fianosth attempt...</td>\n",
              "      <td>Fantasy</td>\n",
              "      <td>Fantasy</td>\n",
              "    </tr>\n",
              "    <tr>\n",
              "      <th>3</th>\n",
              "      <td>Magic's Promise</td>\n",
              "      <td>book open herald mage vanyel return countri va...</td>\n",
              "      <td>Fantasy</td>\n",
              "      <td>Fantasy</td>\n",
              "    </tr>\n",
              "    <tr>\n",
              "      <th>4</th>\n",
              "      <td>Taran Wanderer</td>\n",
              "      <td>taran gurgi return caer dallben follow event t...</td>\n",
              "      <td>Fantasy</td>\n",
              "      <td>Fantasy</td>\n",
              "    </tr>\n",
              "    <tr>\n",
              "      <th>...</th>\n",
              "      <td>...</td>\n",
              "      <td>...</td>\n",
              "      <td>...</td>\n",
              "      <td>...</td>\n",
              "    </tr>\n",
              "    <tr>\n",
              "      <th>2995</th>\n",
              "      <td>White Death</td>\n",
              "      <td>novel numa file kurt austin adventur novel mai...</td>\n",
              "      <td>Thriller</td>\n",
              "      <td>Science Fiction</td>\n",
              "    </tr>\n",
              "    <tr>\n",
              "      <th>2996</th>\n",
              "      <td>Venus with Pistol</td>\n",
              "      <td>gilbert kemp dealer special antiqu gun london ...</td>\n",
              "      <td>Thriller</td>\n",
              "      <td>Thriller</td>\n",
              "    </tr>\n",
              "    <tr>\n",
              "      <th>2997</th>\n",
              "      <td>Blackwater</td>\n",
              "      <td>know deep davey alway live shadow old brother ...</td>\n",
              "      <td>Thriller</td>\n",
              "      <td>Thriller</td>\n",
              "    </tr>\n",
              "    <tr>\n",
              "      <th>2998</th>\n",
              "      <td>The Rainbow and the Rose</td>\n",
              "      <td>stori concern life johnni pasco retir commerci...</td>\n",
              "      <td>Thriller</td>\n",
              "      <td>Thriller</td>\n",
              "    </tr>\n",
              "    <tr>\n",
              "      <th>2999</th>\n",
              "      <td>Chiefs</td>\n",
              "      <td>first chief henri lee novel open grow town del...</td>\n",
              "      <td>Thriller</td>\n",
              "      <td>Thriller</td>\n",
              "    </tr>\n",
              "  </tbody>\n",
              "</table>\n",
              "<p>3000 rows × 4 columns</p>\n",
              "</div>\n",
              "    <div class=\"colab-df-buttons\">\n",
              "\n",
              "  <div class=\"colab-df-container\">\n",
              "    <button class=\"colab-df-convert\" onclick=\"convertToInteractive('df-683d47e1-7d0f-4e57-ad2a-8c14e785d878')\"\n",
              "            title=\"Convert this dataframe to an interactive table.\"\n",
              "            style=\"display:none;\">\n",
              "\n",
              "  <svg xmlns=\"http://www.w3.org/2000/svg\" height=\"24px\" viewBox=\"0 -960 960 960\">\n",
              "    <path d=\"M120-120v-720h720v720H120Zm60-500h600v-160H180v160Zm220 220h160v-160H400v160Zm0 220h160v-160H400v160ZM180-400h160v-160H180v160Zm440 0h160v-160H620v160ZM180-180h160v-160H180v160Zm440 0h160v-160H620v160Z\"/>\n",
              "  </svg>\n",
              "    </button>\n",
              "\n",
              "  <style>\n",
              "    .colab-df-container {\n",
              "      display:flex;\n",
              "      gap: 12px;\n",
              "    }\n",
              "\n",
              "    .colab-df-convert {\n",
              "      background-color: #E8F0FE;\n",
              "      border: none;\n",
              "      border-radius: 50%;\n",
              "      cursor: pointer;\n",
              "      display: none;\n",
              "      fill: #1967D2;\n",
              "      height: 32px;\n",
              "      padding: 0 0 0 0;\n",
              "      width: 32px;\n",
              "    }\n",
              "\n",
              "    .colab-df-convert:hover {\n",
              "      background-color: #E2EBFA;\n",
              "      box-shadow: 0px 1px 2px rgba(60, 64, 67, 0.3), 0px 1px 3px 1px rgba(60, 64, 67, 0.15);\n",
              "      fill: #174EA6;\n",
              "    }\n",
              "\n",
              "    .colab-df-buttons div {\n",
              "      margin-bottom: 4px;\n",
              "    }\n",
              "\n",
              "    [theme=dark] .colab-df-convert {\n",
              "      background-color: #3B4455;\n",
              "      fill: #D2E3FC;\n",
              "    }\n",
              "\n",
              "    [theme=dark] .colab-df-convert:hover {\n",
              "      background-color: #434B5C;\n",
              "      box-shadow: 0px 1px 3px 1px rgba(0, 0, 0, 0.15);\n",
              "      filter: drop-shadow(0px 1px 2px rgba(0, 0, 0, 0.3));\n",
              "      fill: #FFFFFF;\n",
              "    }\n",
              "  </style>\n",
              "\n",
              "    <script>\n",
              "      const buttonEl =\n",
              "        document.querySelector('#df-683d47e1-7d0f-4e57-ad2a-8c14e785d878 button.colab-df-convert');\n",
              "      buttonEl.style.display =\n",
              "        google.colab.kernel.accessAllowed ? 'block' : 'none';\n",
              "\n",
              "      async function convertToInteractive(key) {\n",
              "        const element = document.querySelector('#df-683d47e1-7d0f-4e57-ad2a-8c14e785d878');\n",
              "        const dataTable =\n",
              "          await google.colab.kernel.invokeFunction('convertToInteractive',\n",
              "                                                    [key], {});\n",
              "        if (!dataTable) return;\n",
              "\n",
              "        const docLinkHtml = 'Like what you see? Visit the ' +\n",
              "          '<a target=\"_blank\" href=https://colab.research.google.com/notebooks/data_table.ipynb>data table notebook</a>'\n",
              "          + ' to learn more about interactive tables.';\n",
              "        element.innerHTML = '';\n",
              "        dataTable['output_type'] = 'display_data';\n",
              "        await google.colab.output.renderOutput(dataTable, element);\n",
              "        const docLink = document.createElement('div');\n",
              "        docLink.innerHTML = docLinkHtml;\n",
              "        element.appendChild(docLink);\n",
              "      }\n",
              "    </script>\n",
              "  </div>\n",
              "\n",
              "\n",
              "    <div id=\"df-19f69b3c-94ba-495e-94e6-377509b6ba95\">\n",
              "      <button class=\"colab-df-quickchart\" onclick=\"quickchart('df-19f69b3c-94ba-495e-94e6-377509b6ba95')\"\n",
              "                title=\"Suggest charts\"\n",
              "                style=\"display:none;\">\n",
              "\n",
              "<svg xmlns=\"http://www.w3.org/2000/svg\" height=\"24px\"viewBox=\"0 0 24 24\"\n",
              "     width=\"24px\">\n",
              "    <g>\n",
              "        <path d=\"M19 3H5c-1.1 0-2 .9-2 2v14c0 1.1.9 2 2 2h14c1.1 0 2-.9 2-2V5c0-1.1-.9-2-2-2zM9 17H7v-7h2v7zm4 0h-2V7h2v10zm4 0h-2v-4h2v4z\"/>\n",
              "    </g>\n",
              "</svg>\n",
              "      </button>\n",
              "\n",
              "<style>\n",
              "  .colab-df-quickchart {\n",
              "      --bg-color: #E8F0FE;\n",
              "      --fill-color: #1967D2;\n",
              "      --hover-bg-color: #E2EBFA;\n",
              "      --hover-fill-color: #174EA6;\n",
              "      --disabled-fill-color: #AAA;\n",
              "      --disabled-bg-color: #DDD;\n",
              "  }\n",
              "\n",
              "  [theme=dark] .colab-df-quickchart {\n",
              "      --bg-color: #3B4455;\n",
              "      --fill-color: #D2E3FC;\n",
              "      --hover-bg-color: #434B5C;\n",
              "      --hover-fill-color: #FFFFFF;\n",
              "      --disabled-bg-color: #3B4455;\n",
              "      --disabled-fill-color: #666;\n",
              "  }\n",
              "\n",
              "  .colab-df-quickchart {\n",
              "    background-color: var(--bg-color);\n",
              "    border: none;\n",
              "    border-radius: 50%;\n",
              "    cursor: pointer;\n",
              "    display: none;\n",
              "    fill: var(--fill-color);\n",
              "    height: 32px;\n",
              "    padding: 0;\n",
              "    width: 32px;\n",
              "  }\n",
              "\n",
              "  .colab-df-quickchart:hover {\n",
              "    background-color: var(--hover-bg-color);\n",
              "    box-shadow: 0 1px 2px rgba(60, 64, 67, 0.3), 0 1px 3px 1px rgba(60, 64, 67, 0.15);\n",
              "    fill: var(--button-hover-fill-color);\n",
              "  }\n",
              "\n",
              "  .colab-df-quickchart-complete:disabled,\n",
              "  .colab-df-quickchart-complete:disabled:hover {\n",
              "    background-color: var(--disabled-bg-color);\n",
              "    fill: var(--disabled-fill-color);\n",
              "    box-shadow: none;\n",
              "  }\n",
              "\n",
              "  .colab-df-spinner {\n",
              "    border: 2px solid var(--fill-color);\n",
              "    border-color: transparent;\n",
              "    border-bottom-color: var(--fill-color);\n",
              "    animation:\n",
              "      spin 1s steps(1) infinite;\n",
              "  }\n",
              "\n",
              "  @keyframes spin {\n",
              "    0% {\n",
              "      border-color: transparent;\n",
              "      border-bottom-color: var(--fill-color);\n",
              "      border-left-color: var(--fill-color);\n",
              "    }\n",
              "    20% {\n",
              "      border-color: transparent;\n",
              "      border-left-color: var(--fill-color);\n",
              "      border-top-color: var(--fill-color);\n",
              "    }\n",
              "    30% {\n",
              "      border-color: transparent;\n",
              "      border-left-color: var(--fill-color);\n",
              "      border-top-color: var(--fill-color);\n",
              "      border-right-color: var(--fill-color);\n",
              "    }\n",
              "    40% {\n",
              "      border-color: transparent;\n",
              "      border-right-color: var(--fill-color);\n",
              "      border-top-color: var(--fill-color);\n",
              "    }\n",
              "    60% {\n",
              "      border-color: transparent;\n",
              "      border-right-color: var(--fill-color);\n",
              "    }\n",
              "    80% {\n",
              "      border-color: transparent;\n",
              "      border-right-color: var(--fill-color);\n",
              "      border-bottom-color: var(--fill-color);\n",
              "    }\n",
              "    90% {\n",
              "      border-color: transparent;\n",
              "      border-bottom-color: var(--fill-color);\n",
              "    }\n",
              "  }\n",
              "</style>\n",
              "\n",
              "      <script>\n",
              "        async function quickchart(key) {\n",
              "          const quickchartButtonEl =\n",
              "            document.querySelector('#' + key + ' button');\n",
              "          quickchartButtonEl.disabled = true;  // To prevent multiple clicks.\n",
              "          quickchartButtonEl.classList.add('colab-df-spinner');\n",
              "          try {\n",
              "            const charts = await google.colab.kernel.invokeFunction(\n",
              "                'suggestCharts', [key], {});\n",
              "          } catch (error) {\n",
              "            console.error('Error during call to suggestCharts:', error);\n",
              "          }\n",
              "          quickchartButtonEl.classList.remove('colab-df-spinner');\n",
              "          quickchartButtonEl.classList.add('colab-df-quickchart-complete');\n",
              "        }\n",
              "        (() => {\n",
              "          let quickchartButtonEl =\n",
              "            document.querySelector('#df-19f69b3c-94ba-495e-94e6-377509b6ba95 button');\n",
              "          quickchartButtonEl.style.display =\n",
              "            google.colab.kernel.accessAllowed ? 'block' : 'none';\n",
              "        })();\n",
              "      </script>\n",
              "    </div>\n",
              "\n",
              "  <div id=\"id_e3f2c920-ec73-45c9-b32e-616ef4b8a923\">\n",
              "    <style>\n",
              "      .colab-df-generate {\n",
              "        background-color: #E8F0FE;\n",
              "        border: none;\n",
              "        border-radius: 50%;\n",
              "        cursor: pointer;\n",
              "        display: none;\n",
              "        fill: #1967D2;\n",
              "        height: 32px;\n",
              "        padding: 0 0 0 0;\n",
              "        width: 32px;\n",
              "      }\n",
              "\n",
              "      .colab-df-generate:hover {\n",
              "        background-color: #E2EBFA;\n",
              "        box-shadow: 0px 1px 2px rgba(60, 64, 67, 0.3), 0px 1px 3px 1px rgba(60, 64, 67, 0.15);\n",
              "        fill: #174EA6;\n",
              "      }\n",
              "\n",
              "      [theme=dark] .colab-df-generate {\n",
              "        background-color: #3B4455;\n",
              "        fill: #D2E3FC;\n",
              "      }\n",
              "\n",
              "      [theme=dark] .colab-df-generate:hover {\n",
              "        background-color: #434B5C;\n",
              "        box-shadow: 0px 1px 3px 1px rgba(0, 0, 0, 0.15);\n",
              "        filter: drop-shadow(0px 1px 2px rgba(0, 0, 0, 0.3));\n",
              "        fill: #FFFFFF;\n",
              "      }\n",
              "    </style>\n",
              "    <button class=\"colab-df-generate\" onclick=\"generateWithVariable('books')\"\n",
              "            title=\"Generate code using this dataframe.\"\n",
              "            style=\"display:none;\">\n",
              "\n",
              "  <svg xmlns=\"http://www.w3.org/2000/svg\" height=\"24px\"viewBox=\"0 0 24 24\"\n",
              "       width=\"24px\">\n",
              "    <path d=\"M7,19H8.4L18.45,9,17,7.55,7,17.6ZM5,21V16.75L18.45,3.32a2,2,0,0,1,2.83,0l1.4,1.43a1.91,1.91,0,0,1,.58,1.4,1.91,1.91,0,0,1-.58,1.4L9.25,21ZM18.45,9,17,7.55Zm-12,3A5.31,5.31,0,0,0,4.9,8.1,5.31,5.31,0,0,0,1,6.5,5.31,5.31,0,0,0,4.9,4.9,5.31,5.31,0,0,0,6.5,1,5.31,5.31,0,0,0,8.1,4.9,5.31,5.31,0,0,0,12,6.5,5.46,5.46,0,0,0,6.5,12Z\"/>\n",
              "  </svg>\n",
              "    </button>\n",
              "    <script>\n",
              "      (() => {\n",
              "      const buttonEl =\n",
              "        document.querySelector('#id_e3f2c920-ec73-45c9-b32e-616ef4b8a923 button.colab-df-generate');\n",
              "      buttonEl.style.display =\n",
              "        google.colab.kernel.accessAllowed ? 'block' : 'none';\n",
              "\n",
              "      buttonEl.onclick = () => {\n",
              "        google.colab.notebook.generateWithVariable('books');\n",
              "      }\n",
              "      })();\n",
              "    </script>\n",
              "  </div>\n",
              "\n",
              "    </div>\n",
              "  </div>\n"
            ],
            "application/vnd.google.colaboratory.intrinsic+json": {
              "type": "dataframe",
              "variable_name": "books",
              "summary": "{\n  \"name\": \"books\",\n  \"rows\": 3000,\n  \"fields\": [\n    {\n      \"column\": \"book_name\",\n      \"properties\": {\n        \"dtype\": \"string\",\n        \"num_unique_values\": 2970,\n        \"samples\": [\n          \"Some of Your Blood\",\n          \"To Fear A Painted Devil\",\n          \"The Wolf's Hour\"\n        ],\n        \"semantic_type\": \"\",\n        \"description\": \"\"\n      }\n    },\n    {\n      \"column\": \"summary\",\n      \"properties\": {\n        \"dtype\": \"string\",\n        \"num_unique_values\": 2995,\n        \"samples\": [\n          \"promi land inc real estat develop compani one charact involv spenser also metaphor refer cape cod promi land spenser hire harvey shepard find miss wife pam soon locat along way begin suspect harvey shepard beaten threaten reveal spenser suspect danger loan shark get fire harvey spenser contact wife unwittingli becom entangl murder need spenser help spenser manag get harvey wife clear land danger crimin behind bar process\",\n          \"stori concern clayton blaisdel jr know blaze short thu titl mental challeng small time con artist kidnap wealthi gentleman babi son hope fulfil dream georg thoma rackley blaze decea best friend partner crime chapter altern blaze past cover childhood includ come brain damag entri life crime despit otherwi sweet demeanor current caper imago still constantli advi friend georg despit help imaginari georg advic blaze world begin crumbl kidnap ventur especi bond babi joey end blaze run inevit destini back horror old orphanag hetton hou cop storm rush cave joey nearli kill blaze end kill two policeman kill polic offic buri mile away father live\",\n          \"quest take septimu jenna beetl search nicko snorri bring back past go marcellu pye rememb inform year old memori provid note nicko snorri note say plan travel hou foryx time meet expect come back time jenna take note back palac meantim merrin meredith travel castl hope destroy septimu bump jenna drop note nicko snorri fall puddl get wet jenna go manuscriptorium ask beetl help replac note beetl take restor specialist ephaniah grebe ephaniah half man half rat restor page bind book still miss one piec center map hou foryx merrin meantim take job scribe manuscriptorium meet ghost tertiu fume first chief hermet scribe tertiu make transfer loyalti thing creatur aquir recit word book write tertiu fume assur send septimu peril quest tertiu fume arriv wizard tower along ghost previou extraordinari wizard announc draw quest stone septimu feel dark insid urn stone keep tell thing sabotag draw escap wizard tower tertiu fume put sieg septimu take quest stone hildegard think safecharm hildegard tell marcia tell septimu take safecharm charm stranger septimu regard hildegard stranger marcia disagr contradict blame take quest stone find hildegard actual inhabit tertiu fume thing septimu jenna beetl start journey hou foryx ephaniah grebe promi get morwenna mould witch mother wendron witch show forest way ephaniah promi morwenna anyth exchang show septimu jenna beetl forest way septimu beetl overhear witch talk witch mother ask jenna ullr tag along jenna snorri year past escap coven go camp heap sam heap show forest way eventu reach hou find ephaniah near find last miss piec map possess thing septimu jenna beetl enter hou foryx accid three go insid septimu take insid door girl name talmar ray bell septimu find face face hotep ra first extraordinari wizard meantim jenna beetl find nicko snorri tri escap hou foryx leav marcia sarah arriv outsid hou spit fyre abl return time\"\n        ],\n        \"semantic_type\": \"\",\n        \"description\": \"\"\n      }\n    },\n    {\n      \"column\": \"Actual Genre\",\n      \"properties\": {\n        \"dtype\": \"category\",\n        \"num_unique_values\": 6,\n        \"samples\": [\n          \"Fantasy\",\n          \"Science Fiction\",\n          \"Thriller\"\n        ],\n        \"semantic_type\": \"\",\n        \"description\": \"\"\n      }\n    },\n    {\n      \"column\": \"Predicted_genre\",\n      \"properties\": {\n        \"dtype\": \"category\",\n        \"num_unique_values\": 6,\n        \"samples\": [\n          \"Fantasy\",\n          \"Science Fiction\",\n          \"Crime Fiction\"\n        ],\n        \"semantic_type\": \"\",\n        \"description\": \"\"\n      }\n    }\n  ]\n}"
            }
          },
          "metadata": {},
          "execution_count": 82
        }
      ],
      "source": [
        "books = books[['book_name','summary','Actual Genre','Predicted_genre']]\n",
        "books"
      ]
    },
    {
      "cell_type": "code",
      "execution_count": null,
      "id": "unauthorized-librarian",
      "metadata": {
        "colab": {
          "base_uri": "https://localhost:8080/"
        },
        "id": "unauthorized-librarian",
        "outputId": "20c4b771-7dbf-4dce-eba5-fa837b303c0e"
      },
      "outputs": [
        {
          "output_type": "execute_result",
          "data": {
            "text/plain": [
              "{'Fantasy': 500,\n",
              " 'Science Fiction': 500,\n",
              " 'Crime Fiction': 500,\n",
              " 'Historical novel': 500,\n",
              " 'Horror': 500,\n",
              " 'Thriller': 500}"
            ]
          },
          "metadata": {},
          "execution_count": 83
        }
      ],
      "source": [
        "dict(Counter(books['Actual Genre'].values))"
      ]
    },
    {
      "cell_type": "code",
      "execution_count": null,
      "id": "cooperative-kansas",
      "metadata": {
        "colab": {
          "base_uri": "https://localhost:8080/"
        },
        "id": "cooperative-kansas",
        "outputId": "d2fe81f5-7e57-45e8-dc97-6aaa8dd94201"
      },
      "outputs": [
        {
          "output_type": "execute_result",
          "data": {
            "text/plain": [
              "{'Fantasy': 455,\n",
              " 'Science Fiction': 534,\n",
              " 'Thriller': 484,\n",
              " 'Horror': 505,\n",
              " 'Historical novel': 504,\n",
              " 'Crime Fiction': 518}"
            ]
          },
          "metadata": {},
          "execution_count": 84
        }
      ],
      "source": [
        "dict(Counter(books['Predicted_genre'].values))"
      ]
    },
    {
      "cell_type": "code",
      "execution_count": null,
      "id": "organizational-kruger",
      "metadata": {
        "colab": {
          "base_uri": "https://localhost:8080/",
          "height": 521
        },
        "id": "organizational-kruger",
        "outputId": "da1fce29-9681-490e-ecf3-6b853975e8df"
      },
      "outputs": [
        {
          "output_type": "display_data",
          "data": {
            "text/plain": [
              "<Figure size 640x480 with 1 Axes>"
            ],
            "image/png": "[encoded data removed]"
          },
          "metadata": {}
        }
      ],
      "source": [
        "sn.countplot(x=books['Predicted_genre'])\n",
        "plt.xticks(rotation=45)  # rotation takes a number, not a string\n",
        "plt.show()"
      ]
    },
    {
      "cell_type": "code",
      "execution_count": null,
      "id": "nonprofit-zimbabwe",
      "metadata": {
        "colab": {
          "base_uri": "https://localhost:8080/",
          "height": 642
        },
        "id": "nonprofit-zimbabwe",
        "outputId": "2b43f25e-0469-4cc9-e204-06bd6216c221"
      },
      "outputs": [
        {
          "output_type": "execute_result",
          "data": {
            "text/plain": [
              "([0, 1, 2, 3, 4, 5],\n",
              " [Text(0, 0, 'Fantasy'),\n",
              "  Text(1, 0, 'Science Fiction'),\n",
              "  Text(2, 0, 'Crime Fiction'),\n",
              "  Text(3, 0, 'Historical novel'),\n",
              "  Text(4, 0, 'Horror'),\n",
              "  Text(5, 0, 'Thriller')])"
            ]
          },
          "metadata": {},
          "execution_count": 89
        },
        {
          "output_type": "display_data",
          "data": {
            "text/plain": [
              "<Figure size 640x480 with 1 Axes>"
            ],
            "image/png": "[encoded data removed]"
          },
          "metadata": {}
        }
      ],
      "source": [
        "sn.countplot(x = books['Actual Genre'])\n",
        "plt.xticks(rotation = 45)"
      ]
    },
    {
      "cell_type": "code",
      "source": [
        "import pickle\n",
        "\n",
        "# After training\n",
        "with open('bookgenremodel.pkl', 'wb') as f:\n",
        "    pickle.dump(mb, f)\n",
        "\n",
        "with open('tfdifvector.pkl', 'wb') as f:\n",
        "    pickle.dump(tfidf_vectorizer, f)\n"
      ],
      "metadata": {
        "id": "tfzUN5cCAO4Q"
      },
      "id": "tfzUN5cCAO4Q",
      "execution_count": null,
      "outputs": []
    },
    {
      "cell_type": "code",
      "execution_count": null,
      "id": "fluid-constraint",
      "metadata": {
        "id": "fluid-constraint"
      },
      "outputs": [],
      "source": [
        "# # saving the model\n",
        "\n",
        "# import pickle\n",
        "# file = open('bookgenremodel.pkl','wb')\n",
        "# pickle.dump(mb,file)\n",
        "# file.close()"
      ]
    },
    {
      "cell_type": "code",
      "execution_count": null,
      "id": "distant-danger",
      "metadata": {
        "colab": {
          "base_uri": "https://localhost:8080/",
          "height": 140
        },
        "id": "distant-danger",
        "outputId": "b367bf47-ecb5-4627-b8cc-2ed029df2a9e"
      },
      "outputs": [
        {
          "output_type": "execute_result",
          "data": {
            "text/plain": [
              "'book open jason awaken school bu unabl rememb anyth past sit next piper mclean leo valdez call name say girlfriend best friend respect three part class field trip grand canyon arriv classmat dylan turn venti storm spirit attack trio trip leader coach gleeson hedg ensu fight jason surpri everyon includ one coin turn sword u battl storm spirit coach hedg reveal satyr fight take captiv flee spirit battl fli chariot arriv rescu trio one peopl annabeth upset discov miss boyfriend perci jackson expect annabeth seek perci tell vision goddess hera look guy one shoe turn jason shoe destroy fight jason piper leo tell demigod take back camp half blood meet greek demigod child like leo reveal son hephaestu piper daughter aphrodit jason son zeu though hera tell champion jason later discov full brother zeu demigod daughter thalia grace hunter artemi shortli arriv three give quest rescu hera captur set soon discov enemi work order gaea overthrow god quest encount thalia hunter look perci thalia jason reunit first sinc jason captur age two way aeolu castl jason leo piper becom separ thalia promi meet wolf hou last place thalia see jason meet nearli apprehend aeolu gaea order trio manag escap thank melli aeolu former assist end san francisco thank result dream piper aphrodit land san francisco trio rush mt diablo fight giant enceladu kidnap piper father manag kill giant save piper father rush wolf hou free hera although hero hunter save hera king giant porphyrion rise fulli disappear hole earth jason memori start return rememb hero roman counterpart camp half blood somewh near san francisco son jupit zeu roman aspect realiz hera also know juno switch perci jackson roman camp memori life hope two camp would ultim work togeth fight giant defeat goddess gaea'"
            ],
            "application/vnd.google.colaboratory.intrinsic+json": {
              "type": "string"
            }
          },
          "metadata": {},
          "execution_count": 93
        }
      ],
      "source": [
        "books['summary'].iloc[1]"
      ]
    },
    {
      "cell_type": "code",
      "execution_count": null,
      "id": "cordless-candy",
      "metadata": {
        "colab": {
          "base_uri": "https://localhost:8080/",
          "height": 80
        },
        "id": "cordless-candy",
        "outputId": "9ad4b92f-af7b-4f0e-f11c-0f3bfa2ad8cc"
      },
      "outputs": [
        {
          "output_type": "execute_result",
          "data": {
            "text/plain": [
              "TfidfVectorizer(max_df=0.8, max_features=10000)"
            ],
            "text/html": [
              "<style>#sk-container-id-1 {\n",
              "  /* Definition of color scheme common for light and dark mode */\n",
              "  --sklearn-color-text: #000;\n",
              "  --sklearn-color-text-muted: #666;\n",
              "  --sklearn-color-line: gray;\n",
              "  /* Definition of color scheme for unfitted estimators */\n",
              "  --sklearn-color-unfitted-level-0: #fff5e6;\n",
              "  --sklearn-color-unfitted-level-1: #f6e4d2;\n",
              "  --sklearn-color-unfitted-level-2: #ffe0b3;\n",
              "  --sklearn-color-unfitted-level-3: chocolate;\n",
              "  /* Definition of color scheme for fitted estimators */\n",
              "  --sklearn-color-fitted-level-0: #f0f8ff;\n",
              "  --sklearn-color-fitted-level-1: #d4ebff;\n",
              "  --sklearn-color-fitted-level-2: #b3dbfd;\n",
              "  --sklearn-color-fitted-level-3: cornflowerblue;\n",
              "\n",
              "  /* Specific color for light theme */\n",
              "  --sklearn-color-text-on-default-background: var(--sg-text-color, var(--theme-code-foreground, var(--jp-content-font-color1, black)));\n",
              "  --sklearn-color-background: var(--sg-background-color, var(--theme-background, var(--jp-layout-color0, white)));\n",
              "  --sklearn-color-border-box: var(--sg-text-color, var(--theme-code-foreground, var(--jp-content-font-color1, black)));\n",
              "  --sklearn-color-icon: #696969;\n",
              "\n",
              "  @media (prefers-color-scheme: dark) {\n",
              "    /* Redefinition of color scheme for dark theme */\n",
              "    --sklearn-color-text-on-default-background: var(--sg-text-color, var(--theme-code-foreground, var(--jp-content-font-color1, white)));\n",
              "    --sklearn-color-background: var(--sg-background-color, var(--theme-background, var(--jp-layout-color0, #111)));\n",
              "    --sklearn-color-border-box: var(--sg-text-color, var(--theme-code-foreground, var(--jp-content-font-color1, white)));\n",
              "    --sklearn-color-icon: #878787;\n",
              "  }\n",
              "}\n",
              "\n",
              "#sk-container-id-1 {\n",
              "  color: var(--sklearn-color-text);\n",
              "}\n",
              "\n",
              "#sk-container-id-1 pre {\n",
              "  padding: 0;\n",
              "}\n",
              "\n",
              "#sk-container-id-1 input.sk-hidden--visually {\n",
              "  border: 0;\n",
              "  clip: rect(1px 1px 1px 1px);\n",
              "  clip: rect(1px, 1px, 1px, 1px);\n",
              "  height: 1px;\n",
              "  margin: -1px;\n",
              "  overflow: hidden;\n",
              "  padding: 0;\n",
              "  position: absolute;\n",
              "  width: 1px;\n",
              "}\n",
              "\n",
              "#sk-container-id-1 div.sk-dashed-wrapped {\n",
              "  border: 1px dashed var(--sklearn-color-line);\n",
              "  margin: 0 0.4em 0.5em 0.4em;\n",
              "  box-sizing: border-box;\n",
              "  padding-bottom: 0.4em;\n",
              "  background-color: var(--sklearn-color-background);\n",
              "}\n",
              "\n",
              "#sk-container-id-1 div.sk-container {\n",
              "  /* jupyter's `normalize.less` sets `[hidden] { display: none; }`\n",
              "     but bootstrap.min.css set `[hidden] { display: none !important; }`\n",
              "     so we also need the `!important` here to be able to override the\n",
              "     default hidden behavior on the sphinx rendered scikit-learn.org.\n",
              "     See: https://github.com/scikit-learn/scikit-learn/issues/21755 */\n",
              "  display: inline-block !important;\n",
              "  position: relative;\n",
              "}\n",
              "\n",
              "#sk-container-id-1 div.sk-text-repr-fallback {\n",
              "  display: none;\n",
              "}\n",
              "\n",
              "div.sk-parallel-item,\n",
              "div.sk-serial,\n",
              "div.sk-item {\n",
              "  /* draw centered vertical line to link estimators */\n",
              "  background-image: linear-gradient(var(--sklearn-color-text-on-default-background), var(--sklearn-color-text-on-default-background));\n",
              "  background-size: 2px 100%;\n",
              "  background-repeat: no-repeat;\n",
              "  background-position: center center;\n",
              "}\n",
              "\n",
              "/* Parallel-specific style estimator block */\n",
              "\n",
              "#sk-container-id-1 div.sk-parallel-item::after {\n",
              "  content: \"\";\n",
              "  width: 100%;\n",
              "  border-bottom: 2px solid var(--sklearn-color-text-on-default-background);\n",
              "  flex-grow: 1;\n",
              "}\n",
              "\n",
              "#sk-container-id-1 div.sk-parallel {\n",
              "  display: flex;\n",
              "  align-items: stretch;\n",
              "  justify-content: center;\n",
              "  background-color: var(--sklearn-color-background);\n",
              "  position: relative;\n",
              "}\n",
              "\n",
              "#sk-container-id-1 div.sk-parallel-item {\n",
              "  display: flex;\n",
              "  flex-direction: column;\n",
              "}\n",
              "\n",
              "#sk-container-id-1 div.sk-parallel-item:first-child::after {\n",
              "  align-self: flex-end;\n",
              "  width: 50%;\n",
              "}\n",
              "\n",
              "#sk-container-id-1 div.sk-parallel-item:last-child::after {\n",
              "  align-self: flex-start;\n",
              "  width: 50%;\n",
              "}\n",
              "\n",
              "#sk-container-id-1 div.sk-parallel-item:only-child::after {\n",
              "  width: 0;\n",
              "}\n",
              "\n",
              "/* Serial-specific style estimator block */\n",
              "\n",
              "#sk-container-id-1 div.sk-serial {\n",
              "  display: flex;\n",
              "  flex-direction: column;\n",
              "  align-items: center;\n",
              "  background-color: var(--sklearn-color-background);\n",
              "  padding-right: 1em;\n",
              "  padding-left: 1em;\n",
              "}\n",
              "\n",
              "\n",
              "/* Toggleable style: style used for estimator/Pipeline/ColumnTransformer box that is\n",
              "clickable and can be expanded/collapsed.\n",
              "- Pipeline and ColumnTransformer use this feature and define the default style\n",
              "- Estimators will overwrite some part of the style using the `sk-estimator` class\n",
              "*/\n",
              "\n",
              "/* Pipeline and ColumnTransformer style (default) */\n",
              "\n",
              "#sk-container-id-1 div.sk-toggleable {\n",
              "  /* Default theme specific background. It is overwritten whether we have a\n",
              "  specific estimator or a Pipeline/ColumnTransformer */\n",
              "  background-color: var(--sklearn-color-background);\n",
              "}\n",
              "\n",
              "/* Toggleable label */\n",
              "#sk-container-id-1 label.sk-toggleable__label {\n",
              "  cursor: pointer;\n",
              "  display: flex;\n",
              "  width: 100%;\n",
              "  margin-bottom: 0;\n",
              "  padding: 0.5em;\n",
              "  box-sizing: border-box;\n",
              "  text-align: center;\n",
              "  align-items: start;\n",
              "  justify-content: space-between;\n",
              "  gap: 0.5em;\n",
              "}\n",
              "\n",
              "#sk-container-id-1 label.sk-toggleable__label .caption {\n",
              "  font-size: 0.6rem;\n",
              "  font-weight: lighter;\n",
              "  color: var(--sklearn-color-text-muted);\n",
              "}\n",
              "\n",
              "#sk-container-id-1 label.sk-toggleable__label-arrow:before {\n",
              "  /* Arrow on the left of the label */\n",
              "  content: \"▸\";\n",
              "  float: left;\n",
              "  margin-right: 0.25em;\n",
              "  color: var(--sklearn-color-icon);\n",
              "}\n",
              "\n",
              "#sk-container-id-1 label.sk-toggleable__label-arrow:hover:before {\n",
              "  color: var(--sklearn-color-text);\n",
              "}\n",
              "\n",
              "/* Toggleable content - dropdown */\n",
              "\n",
              "#sk-container-id-1 div.sk-toggleable__content {\n",
              "  max-height: 0;\n",
              "  max-width: 0;\n",
              "  overflow: hidden;\n",
              "  text-align: left;\n",
              "  /* unfitted */\n",
              "  background-color: var(--sklearn-color-unfitted-level-0);\n",
              "}\n",
              "\n",
              "#sk-container-id-1 div.sk-toggleable__content.fitted {\n",
              "  /* fitted */\n",
              "  background-color: var(--sklearn-color-fitted-level-0);\n",
              "}\n",
              "\n",
              "#sk-container-id-1 div.sk-toggleable__content pre {\n",
              "  margin: 0.2em;\n",
              "  border-radius: 0.25em;\n",
              "  color: var(--sklearn-color-text);\n",
              "  /* unfitted */\n",
              "  background-color: var(--sklearn-color-unfitted-level-0);\n",
              "}\n",
              "\n",
              "#sk-container-id-1 div.sk-toggleable__content.fitted pre {\n",
              "  /* unfitted */\n",
              "  background-color: var(--sklearn-color-fitted-level-0);\n",
              "}\n",
              "\n",
              "#sk-container-id-1 input.sk-toggleable__control:checked~div.sk-toggleable__content {\n",
              "  /* Expand drop-down */\n",
              "  max-height: 200px;\n",
              "  max-width: 100%;\n",
              "  overflow: auto;\n",
              "}\n",
              "\n",
              "#sk-container-id-1 input.sk-toggleable__control:checked~label.sk-toggleable__label-arrow:before {\n",
              "  content: \"▾\";\n",
              "}\n",
              "\n",
              "/* Pipeline/ColumnTransformer-specific style */\n",
              "\n",
              "#sk-container-id-1 div.sk-label input.sk-toggleable__control:checked~label.sk-toggleable__label {\n",
              "  color: var(--sklearn-color-text);\n",
              "  background-color: var(--sklearn-color-unfitted-level-2);\n",
              "}\n",
              "\n",
              "#sk-container-id-1 div.sk-label.fitted input.sk-toggleable__control:checked~label.sk-toggleable__label {\n",
              "  background-color: var(--sklearn-color-fitted-level-2);\n",
              "}\n",
              "\n",
              "/* Estimator-specific style */\n",
              "\n",
              "/* Colorize estimator box */\n",
              "#sk-container-id-1 div.sk-estimator input.sk-toggleable__control:checked~label.sk-toggleable__label {\n",
              "  /* unfitted */\n",
              "  background-color: var(--sklearn-color-unfitted-level-2);\n",
              "}\n",
              "\n",
              "#sk-container-id-1 div.sk-estimator.fitted input.sk-toggleable__control:checked~label.sk-toggleable__label {\n",
              "  /* fitted */\n",
              "  background-color: var(--sklearn-color-fitted-level-2);\n",
              "}\n",
              "\n",
              "#sk-container-id-1 div.sk-label label.sk-toggleable__label,\n",
              "#sk-container-id-1 div.sk-label label {\n",
              "  /* The background is the default theme color */\n",
              "  color: var(--sklearn-color-text-on-default-background);\n",
              "}\n",
              "\n",
              "/* On hover, darken the color of the background */\n",
              "#sk-container-id-1 div.sk-label:hover label.sk-toggleable__label {\n",
              "  color: var(--sklearn-color-text);\n",
              "  background-color: var(--sklearn-color-unfitted-level-2);\n",
              "}\n",
              "\n",
              "/* Label box, darken color on hover, fitted */\n",
              "#sk-container-id-1 div.sk-label.fitted:hover label.sk-toggleable__label.fitted {\n",
              "  color: var(--sklearn-color-text);\n",
              "  background-color: var(--sklearn-color-fitted-level-2);\n",
              "}\n",
              "\n",
              "/* Estimator label */\n",
              "\n",
              "#sk-container-id-1 div.sk-label label {\n",
              "  font-family: monospace;\n",
              "  font-weight: bold;\n",
              "  display: inline-block;\n",
              "  line-height: 1.2em;\n",
              "}\n",
              "\n",
              "#sk-container-id-1 div.sk-label-container {\n",
              "  text-align: center;\n",
              "}\n",
              "\n",
              "/* Estimator-specific */\n",
              "#sk-container-id-1 div.sk-estimator {\n",
              "  font-family: monospace;\n",
              "  border: 1px dotted var(--sklearn-color-border-box);\n",
              "  border-radius: 0.25em;\n",
              "  box-sizing: border-box;\n",
              "  margin-bottom: 0.5em;\n",
              "  /* unfitted */\n",
              "  background-color: var(--sklearn-color-unfitted-level-0);\n",
              "}\n",
              "\n",
              "#sk-container-id-1 div.sk-estimator.fitted {\n",
              "  /* fitted */\n",
              "  background-color: var(--sklearn-color-fitted-level-0);\n",
              "}\n",
              "\n",
              "/* on hover */\n",
              "#sk-container-id-1 div.sk-estimator:hover {\n",
              "  /* unfitted */\n",
              "  background-color: var(--sklearn-color-unfitted-level-2);\n",
              "}\n",
              "\n",
              "#sk-container-id-1 div.sk-estimator.fitted:hover {\n",
              "  /* fitted */\n",
              "  background-color: var(--sklearn-color-fitted-level-2);\n",
              "}\n",
              "\n",
              "/* Specification for estimator info (e.g. \"i\" and \"?\") */\n",
              "\n",
              "/* Common style for \"i\" and \"?\" */\n",
              "\n",
              ".sk-estimator-doc-link,\n",
              "a:link.sk-estimator-doc-link,\n",
              "a:visited.sk-estimator-doc-link {\n",
              "  float: right;\n",
              "  font-size: smaller;\n",
              "  line-height: 1em;\n",
              "  font-family: monospace;\n",
              "  background-color: var(--sklearn-color-background);\n",
              "  border-radius: 1em;\n",
              "  height: 1em;\n",
              "  width: 1em;\n",
              "  text-decoration: none !important;\n",
              "  margin-left: 0.5em;\n",
              "  text-align: center;\n",
              "  /* unfitted */\n",
              "  border: var(--sklearn-color-unfitted-level-1) 1pt solid;\n",
              "  color: var(--sklearn-color-unfitted-level-1);\n",
              "}\n",
              "\n",
              ".sk-estimator-doc-link.fitted,\n",
              "a:link.sk-estimator-doc-link.fitted,\n",
              "a:visited.sk-estimator-doc-link.fitted {\n",
              "  /* fitted */\n",
              "  border: var(--sklearn-color-fitted-level-1) 1pt solid;\n",
              "  color: var(--sklearn-color-fitted-level-1);\n",
              "}\n",
              "\n",
              "/* On hover */\n",
              "div.sk-estimator:hover .sk-estimator-doc-link:hover,\n",
              ".sk-estimator-doc-link:hover,\n",
              "div.sk-label-container:hover .sk-estimator-doc-link:hover,\n",
              ".sk-estimator-doc-link:hover {\n",
              "  /* unfitted */\n",
              "  background-color: var(--sklearn-color-unfitted-level-3);\n",
              "  color: var(--sklearn-color-background);\n",
              "  text-decoration: none;\n",
              "}\n",
              "\n",
              "div.sk-estimator.fitted:hover .sk-estimator-doc-link.fitted:hover,\n",
              ".sk-estimator-doc-link.fitted:hover,\n",
              "div.sk-label-container:hover .sk-estimator-doc-link.fitted:hover,\n",
              ".sk-estimator-doc-link.fitted:hover {\n",
              "  /* fitted */\n",
              "  background-color: var(--sklearn-color-fitted-level-3);\n",
              "  color: var(--sklearn-color-background);\n",
              "  text-decoration: none;\n",
              "}\n",
              "\n",
              "/* Span, style for the box shown on hovering the info icon */\n",
              ".sk-estimator-doc-link span {\n",
              "  display: none;\n",
              "  z-index: 9999;\n",
              "  position: relative;\n",
              "  font-weight: normal;\n",
              "  right: .2ex;\n",
              "  padding: .5ex;\n",
              "  margin: .5ex;\n",
              "  width: min-content;\n",
              "  min-width: 20ex;\n",
              "  max-width: 50ex;\n",
              "  color: var(--sklearn-color-text);\n",
              "  box-shadow: 2pt 2pt 4pt #999;\n",
              "  /* unfitted */\n",
              "  background: var(--sklearn-color-unfitted-level-0);\n",
              "  border: .5pt solid var(--sklearn-color-unfitted-level-3);\n",
              "}\n",
              "\n",
              ".sk-estimator-doc-link.fitted span {\n",
              "  /* fitted */\n",
              "  background: var(--sklearn-color-fitted-level-0);\n",
              "  border: var(--sklearn-color-fitted-level-3);\n",
              "}\n",
              "\n",
              ".sk-estimator-doc-link:hover span {\n",
              "  display: block;\n",
              "}\n",
              "\n",
              "/* \"?\"-specific style due to the `<a>` HTML tag */\n",
              "\n",
              "#sk-container-id-1 a.estimator_doc_link {\n",
              "  float: right;\n",
              "  font-size: 1rem;\n",
              "  line-height: 1em;\n",
              "  font-family: monospace;\n",
              "  background-color: var(--sklearn-color-background);\n",
              "  border-radius: 1rem;\n",
              "  height: 1rem;\n",
              "  width: 1rem;\n",
              "  text-decoration: none;\n",
              "  /* unfitted */\n",
              "  color: var(--sklearn-color-unfitted-level-1);\n",
              "  border: var(--sklearn-color-unfitted-level-1) 1pt solid;\n",
              "}\n",
              "\n",
              "#sk-container-id-1 a.estimator_doc_link.fitted {\n",
              "  /* fitted */\n",
              "  border: var(--sklearn-color-fitted-level-1) 1pt solid;\n",
              "  color: var(--sklearn-color-fitted-level-1);\n",
              "}\n",
              "\n",
              "/* On hover */\n",
              "#sk-container-id-1 a.estimator_doc_link:hover {\n",
              "  /* unfitted */\n",
              "  background-color: var(--sklearn-color-unfitted-level-3);\n",
              "  color: var(--sklearn-color-background);\n",
              "  text-decoration: none;\n",
              "}\n",
              "\n",
              "#sk-container-id-1 a.estimator_doc_link.fitted:hover {\n",
              "  /* fitted */\n",
              "  background-color: var(--sklearn-color-fitted-level-3);\n",
              "}\n",
              "</style><div id=\"sk-container-id-1\" class=\"sk-top-container\"><div class=\"sk-text-repr-fallback\"><pre>TfidfVectorizer(max_df=0.8, max_features=10000)</pre><b>In a Jupyter environment, please rerun this cell to show the HTML representation or trust the notebook. <br />On GitHub, the HTML representation is unable to render, please try loading this page with nbviewer.org.</b></div><div class=\"sk-container\" hidden><div class=\"sk-item\"><div class=\"sk-estimator fitted sk-toggleable\"><input class=\"sk-toggleable__control sk-hidden--visually\" id=\"sk-estimator-id-1\" type=\"checkbox\" checked><label for=\"sk-estimator-id-1\" class=\"sk-toggleable__label fitted sk-toggleable__label-arrow\"><div><div>TfidfVectorizer</div></div><div><a class=\"sk-estimator-doc-link fitted\" rel=\"noreferrer\" target=\"_blank\" href=\"https://scikit-learn.org/1.6/modules/generated/sklearn.feature_extraction.text.TfidfVectorizer.html\">?<span>Documentation for TfidfVectorizer</span></a><span class=\"sk-estimator-doc-link fitted\">i<span>Fitted</span></span></div></label><div class=\"sk-toggleable__content fitted\"><pre>TfidfVectorizer(max_df=0.8, max_features=10000)</pre></div> </div></div></div></div>"
            ]
          },
          "metadata": {},
          "execution_count": 94
        }
      ],
      "source": [
        "tfidf_vectorizer"
      ]
    },
    {
      "cell_type": "code",
      "execution_count": null,
      "id": "extra-check",
      "metadata": {
        "id": "extra-check"
      },
      "outputs": [],
      "source": [
        "file = open('tfdifvector.pkl','wb')\n",
        "pickle.dump(tfidf_vectorizer,file)\n",
        "file.close()"
      ]
    },
    {
      "cell_type": "code",
      "execution_count": null,
      "id": "accredited-vintage",
      "metadata": {
        "colab": {
          "base_uri": "https://localhost:8080/"
        },
        "id": "accredited-vintage",
        "outputId": "bbac2250-e850-4e57-9511-ad531292d427"
      },
      "outputs": [
        {
          "output_type": "stream",
          "name": "stderr",
          "text": [
            "[nltk_data] Downloading package wordnet to ./...\n"
          ]
        },
        {
          "output_type": "execute_result",
          "data": {
            "text/plain": [
              "True"
            ]
          },
          "metadata": {},
          "execution_count": 96
        }
      ],
      "source": [
        "wordnet_down = nltk.download('wordnet',download_dir='./')\n",
        "wordnet_down"
      ]
    },
    {
      "cell_type": "code",
      "execution_count": null,
      "id": "working-master",
      "metadata": {
        "colab": {
          "base_uri": "https://localhost:8080/"
        },
        "id": "working-master",
        "outputId": "762adf48-1fce-49fe-d3bb-57055c6cd0a3"
      },
      "outputs": [
        {
          "output_type": "stream",
          "name": "stderr",
          "text": [
            "[nltk_data] Downloading package stopwords to ./...\n",
            "[nltk_data]   Package stopwords is already up-to-date!\n"
          ]
        },
        {
          "output_type": "execute_result",
          "data": {
            "text/plain": [
              "True"
            ]
          },
          "metadata": {},
          "execution_count": 99
        }
      ],
      "source": [
        "nltk.download('stopwords',download_dir='./')"
      ]
    }
  ],
  "metadata": {
    "kernelspec": {
      "display_name": "Python 3",
      "language": "python",
      "name": "python3"
    },
    "language_info": {
      "codemirror_mode": {
        "name": "ipython",
        "version": 3
      },
      "file_extension": ".py",
      "mimetype": "text/x-python",
      "name": "python",
      "nbconvert_exporter": "python",
      "pygments_lexer": "ipython3",
      "version": "3.9.1"
    },
    "colab": {
      "provenance": []
    }
  },
  "nbformat": 4,
  "nbformat_minor": 5
}